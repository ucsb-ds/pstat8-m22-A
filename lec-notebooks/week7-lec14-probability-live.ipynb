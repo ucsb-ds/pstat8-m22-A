{
 "cells": [
  {
   "cell_type": "code",
   "execution_count": 1,
   "metadata": {},
   "outputs": [],
   "source": [
    "from datascience import *\n",
    "import numpy as np\n",
    "\n",
    "%matplotlib inline\n",
    "import matplotlib.pyplot as plots\n",
    "plots.style.use('fivethirtyeight')"
   ]
  },
  {
   "cell_type": "markdown",
   "metadata": {},
   "source": [
    "## Simulation"
   ]
  },
  {
   "cell_type": "code",
   "execution_count": 2,
   "metadata": {},
   "outputs": [
    {
     "data": {
      "text/plain": [
       "array(['heads', 'tails'], dtype='<U5')"
      ]
     },
     "execution_count": 2,
     "metadata": {},
     "output_type": "execute_result"
    }
   ],
   "source": [
    "outcomes = make_array('heads', 'tails')\n",
    "outcomes"
   ]
  },
  {
   "cell_type": "code",
   "execution_count": 8,
   "metadata": {},
   "outputs": [
    {
     "data": {
      "text/plain": [
       "'tails'"
      ]
     },
     "execution_count": 8,
     "metadata": {},
     "output_type": "execute_result"
    }
   ],
   "source": [
    "np.random.choice(outcomes)"
   ]
  },
  {
   "cell_type": "code",
   "execution_count": 6,
   "metadata": {},
   "outputs": [
    {
     "data": {
      "text/plain": [
       "array(['tails', 'heads', 'tails', 'heads', 'tails', 'tails', 'heads',\n",
       "       'heads', 'tails', 'tails'], dtype='<U5')"
      ]
     },
     "execution_count": 6,
     "metadata": {},
     "output_type": "execute_result"
    }
   ],
   "source": [
    "np.random.choice(outcomes, 10)\n",
    "# simulating 10 coin tosses"
   ]
  },
  {
   "cell_type": "code",
   "execution_count": 9,
   "metadata": {},
   "outputs": [
    {
     "data": {
      "text/plain": [
       "array([False, False, False, False,  True,  True,  True,  True,  True,\n",
       "       False])"
      ]
     },
     "execution_count": 9,
     "metadata": {},
     "output_type": "execute_result"
    }
   ],
   "source": [
    "np.random.choice(outcomes, 10) == 'heads'"
   ]
  },
  {
   "cell_type": "code",
   "execution_count": 10,
   "metadata": {},
   "outputs": [
    {
     "data": {
      "text/plain": [
       "5"
      ]
     },
     "execution_count": 10,
     "metadata": {},
     "output_type": "execute_result"
    }
   ],
   "source": [
    "sum(np.random.choice(outcomes, 10) == 'heads')\n",
    "# np.random.choice(outcomes, 10) simulating 10 coin tosses\n",
    "# checking our array for equality with the string 'heads'\n",
    "# spits out an array of boolean values\n",
    "\n",
    "# how many heads are there?\n",
    "# sum(...) since True = 1, what returns after we take the sum\n",
    "# of our array of boolean values\n",
    "# taking the sum then answers the question of how many heads\n",
    "# we got in our 10 tosses\n",
    "\n",
    "# this means i got 5 heads in my simulating of 10 coin tosses"
   ]
  },
  {
   "cell_type": "code",
   "execution_count": 11,
   "metadata": {},
   "outputs": [
    {
     "data": {
      "text/plain": [
       "5"
      ]
     },
     "execution_count": 11,
     "metadata": {},
     "output_type": "execute_result"
    }
   ],
   "source": [
    "sum(np.random.choice(outcomes, 10) == 'tails')\n",
    "# new simulation of 10 coin tosses\n",
    "# 5 tails\n",
    "# 5 heads"
   ]
  },
  {
   "cell_type": "code",
   "execution_count": 13,
   "metadata": {},
   "outputs": [
    {
     "data": {
      "text/plain": [
       "array(['tails', 'tails', 'tails', 'heads', 'heads', 'tails', 'heads',\n",
       "       'tails', 'heads', 'heads'], dtype='<U5')"
      ]
     },
     "execution_count": 13,
     "metadata": {},
     "output_type": "execute_result"
    }
   ],
   "source": [
    "flips = np.random.choice(outcomes, 10)\n",
    "flips"
   ]
  },
  {
   "cell_type": "code",
   "execution_count": 14,
   "metadata": {},
   "outputs": [
    {
     "data": {
      "text/plain": [
       "5"
      ]
     },
     "execution_count": 14,
     "metadata": {},
     "output_type": "execute_result"
    }
   ],
   "source": [
    "sum(flips == 'heads')\n",
    "# how many heads were in our simulation, called flips?"
   ]
  },
  {
   "cell_type": "code",
   "execution_count": 15,
   "metadata": {},
   "outputs": [
    {
     "data": {
      "text/plain": [
       "5"
      ]
     },
     "execution_count": 15,
     "metadata": {},
     "output_type": "execute_result"
    }
   ],
   "source": [
    "sum(flips == 'tails')\n"
   ]
  },
  {
   "cell_type": "code",
   "execution_count": 16,
   "metadata": {},
   "outputs": [],
   "source": [
    "def heads_in_100_tosses():\n",
    "    # sim is a simulation of 100 coin tosses\n",
    "    sim = np.random.choice(outcomes, 100)\n",
    "    # find number of heads in sim\n",
    "    number_heads = sum(sim == 'heads')\n",
    "    return number_heads\n",
    "    "
   ]
  },
  {
   "cell_type": "code",
   "execution_count": 17,
   "metadata": {},
   "outputs": [
    {
     "data": {
      "text/plain": [
       "45"
      ]
     },
     "execution_count": 17,
     "metadata": {},
     "output_type": "execute_result"
    }
   ],
   "source": [
    "# one simulation of 100 tosses\n",
    "heads_in_100_tosses()\n",
    "# 45 heads in 100 tosses"
   ]
  },
  {
   "cell_type": "code",
   "execution_count": 26,
   "metadata": {},
   "outputs": [
    {
     "data": {
      "text/plain": [
       "44"
      ]
     },
     "execution_count": 26,
     "metadata": {},
     "output_type": "execute_result"
    }
   ],
   "source": [
    "# another simulation of 100 tosses\n",
    "heads_in_100_tosses()"
   ]
  },
  {
   "cell_type": "code",
   "execution_count": 32,
   "metadata": {
    "scrolled": true
   },
   "outputs": [
    {
     "data": {
      "text/plain": [
       "array([59., 41., 56., ..., 53., 41., 52.])"
      ]
     },
     "execution_count": 32,
     "metadata": {},
     "output_type": "execute_result"
    }
   ],
   "source": [
    "# initializing an empty array, to collect stuff later\n",
    "results = make_array()\n",
    "\n",
    "# let's repeat our simulation of 100 tosses, counting the number of heads each time\n",
    "# 10,000 times\n",
    "# how often do we get 50 heads?\n",
    "for i in np.arange(10000):# array with 10,000 things in it\n",
    "    # i will \"traverse\" through our array (0, 1, ...9999)\n",
    "    # here i is just acting as a counter\n",
    "    # we will run the code in our for loop, 10,000 times\n",
    "    results = np.append(results, heads_in_100_tosses())\n",
    "    #print(results)\n",
    "results"
   ]
  },
  {
   "cell_type": "code",
   "execution_count": 31,
   "metadata": {},
   "outputs": [
    {
     "name": "stdout",
     "output_type": "stream",
     "text": [
      "1\n",
      "[43.]\n",
      "2\n",
      "[43. 51.]\n",
      "3\n",
      "[43. 51. 40.]\n",
      "4\n",
      "[43. 51. 40. 53.]\n",
      "5\n",
      "[43. 51. 40. 53. 58.]\n",
      "6\n",
      "[43. 51. 40. 53. 58. 48.]\n",
      "7\n",
      "[43. 51. 40. 53. 58. 48. 51.]\n",
      "8\n",
      "[43. 51. 40. 53. 58. 48. 51. 43.]\n",
      "9\n",
      "[43. 51. 40. 53. 58. 48. 51. 43. 52.]\n",
      "10\n",
      "[43. 51. 40. 53. 58. 48. 51. 43. 52. 46.]\n"
     ]
    }
   ],
   "source": [
    "loop = 0\n",
    "results = make_array()\n",
    "for i in np.arange(10):# array with 10 things in it\n",
    "    loop = loop + 1\n",
    "    \n",
    "    results = np.append(results, heads_in_100_tosses())\n",
    "    print(loop)\n",
    "    print(results)\n",
    "    \n"
   ]
  },
  {
   "cell_type": "code",
   "execution_count": 33,
   "metadata": {},
   "outputs": [
    {
     "data": {
      "text/html": [
       "<table border=\"1\" class=\"dataframe\">\n",
       "    <thead>\n",
       "        <tr>\n",
       "            <th>Heads</th>\n",
       "        </tr>\n",
       "    </thead>\n",
       "    <tbody>\n",
       "        <tr>\n",
       "            <td>59   </td>\n",
       "        </tr>\n",
       "        <tr>\n",
       "            <td>41   </td>\n",
       "        </tr>\n",
       "        <tr>\n",
       "            <td>56   </td>\n",
       "        </tr>\n",
       "        <tr>\n",
       "            <td>46   </td>\n",
       "        </tr>\n",
       "        <tr>\n",
       "            <td>48   </td>\n",
       "        </tr>\n",
       "        <tr>\n",
       "            <td>51   </td>\n",
       "        </tr>\n",
       "        <tr>\n",
       "            <td>52   </td>\n",
       "        </tr>\n",
       "        <tr>\n",
       "            <td>54   </td>\n",
       "        </tr>\n",
       "        <tr>\n",
       "            <td>55   </td>\n",
       "        </tr>\n",
       "        <tr>\n",
       "            <td>54   </td>\n",
       "        </tr>\n",
       "    </tbody>\n",
       "</table>\n",
       "<p>... (9990 rows omitted)</p>"
      ],
      "text/plain": [
       "Heads\n",
       "59\n",
       "41\n",
       "56\n",
       "46\n",
       "48\n",
       "51\n",
       "52\n",
       "54\n",
       "55\n",
       "54\n",
       "... (9990 rows omitted)"
      ]
     },
     "execution_count": 33,
     "metadata": {},
     "output_type": "execute_result"
    }
   ],
   "source": [
    "heads = Table().with_columns('Heads', results)\n",
    "heads"
   ]
  },
  {
   "cell_type": "code",
   "execution_count": 34,
   "metadata": {},
   "outputs": [
    {
     "data": {
      "image/png": "[encoded data removed]",
      "text/plain": [
       "<Figure size 432x288 with 1 Axes>"
      ]
     },
     "metadata": {},
     "output_type": "display_data"
    }
   ],
   "source": [
    "heads.hist('Heads', bins=np.arange(24.5, 76.5))\n",
    "# empirical distribution\n",
    "# number of head tosses in 100 tosses\n",
    "# 10,000 repetitions of simulations\n",
    "# one simulation = 100 coin tosses"
   ]
  },
  {
   "cell_type": "markdown",
   "metadata": {},
   "source": [
    "## Monty Hall"
   ]
  },
  {
   "cell_type": "code",
   "execution_count": 35,
   "metadata": {},
   "outputs": [
    {
     "data": {
      "text/plain": [
       "array(['car', 'first goat', 'second goat'], dtype='<U11')"
      ]
     },
     "execution_count": 35,
     "metadata": {},
     "output_type": "execute_result"
    }
   ],
   "source": [
    "doors = make_array('car', 'first goat', 'second goat')\n",
    "doors"
   ]
  },
  {
   "cell_type": "code",
   "execution_count": 43,
   "metadata": {},
   "outputs": [],
   "source": [
    "goats = make_array('first goat', 'second goat')\n",
    "\n",
    "def other_goat(a_goat):\n",
    "    ''' other_goat returns the other goat after the contestant has chosen a door with a goat behind it\n",
    "    if the door with the first goat was chosen, the second goat is remaining\n",
    "    if the door with the second goat was chosen, the first goat is remaining\n",
    "    '''\n",
    "    if a_goat == \"first goat\": # if this is True\n",
    "        return \"second goat\" # proceed with line of code \n",
    "    # once it returns, we exit out of this function\n",
    "    # if the above statement is NOT true\n",
    "    elif a_goat == \"second goat\":  # if this is True\n",
    "        return \"first goat\" # proceed with the line of code\n",
    "    # once our function returns something, we exit out of the function\n",
    "    else: # any other scenario\n",
    "        print('We only accept first goat or second goat. Try again!')\n",
    "\n"
   ]
  },
  {
   "cell_type": "code",
   "execution_count": 39,
   "metadata": {},
   "outputs": [
    {
     "data": {
      "text/plain": [
       "'second goat'"
      ]
     },
     "execution_count": 39,
     "metadata": {},
     "output_type": "execute_result"
    }
   ],
   "source": [
    "other_goat('first goat')"
   ]
  },
  {
   "cell_type": "code",
   "execution_count": 40,
   "metadata": {},
   "outputs": [
    {
     "data": {
      "text/plain": [
       "'first goat'"
      ]
     },
     "execution_count": 40,
     "metadata": {},
     "output_type": "execute_result"
    }
   ],
   "source": [
    "other_goat('second goat')"
   ]
  },
  {
   "cell_type": "code",
   "execution_count": 44,
   "metadata": {},
   "outputs": [
    {
     "name": "stdout",
     "output_type": "stream",
     "text": [
      "We only accept first goat or second goat\n"
     ]
    }
   ],
   "source": [
    "other_goat('wheeler hall')\n",
    "# nothing is returned, or displayed on our screen\n",
    "# this is the correct behavior\n",
    "# because we didn't account for this scenario"
   ]
  },
  {
   "cell_type": "code",
   "execution_count": null,
   "metadata": {},
   "outputs": [],
   "source": [
    "# the contestant has three choices:\n",
    "# first goat\n",
    "# second goat\n",
    "# car\n",
    "\n",
    "# what happens if the contestant chooses the door with the first goat behind it?\n",
    "# what door does monty_hall open? second goat\n",
    "# what door remains? car\n",
    "\n"
   ]
  },
  {
   "cell_type": "code",
   "execution_count": null,
   "metadata": {},
   "outputs": [],
   "source": [
    "# what happens if the contestant chooses the door with the second goat behind it?\n",
    "# what door does monty_hall open? first goat\n",
    "# what door remains? car\n",
    "\n",
    "\n"
   ]
  },
  {
   "cell_type": "code",
   "execution_count": null,
   "metadata": {},
   "outputs": [],
   "source": [
    "# what happens if the contestant chooses the door with the car behind it?\n",
    "# what door does monty_hall open? first goat or second goat\n",
    "# what door remains? second goat or first goat\n",
    "# hint: we'd use the other goat....here to decide\n",
    "\n",
    "\n"
   ]
  },
  {
   "cell_type": "code",
   "execution_count": 46,
   "metadata": {},
   "outputs": [],
   "source": [
    "def monty_hall():\n",
    "    '''monty_hall() randomly selects the contestant's choice for the first door selection\n",
    "    it populates monty's choice and the remaining door \n",
    "    it returns a list of contestant choice, monty choice, and remaining door\n",
    "    from the possibilities: first goat, second goat, or car\n",
    "    '''\n",
    "    contestant_choice = np.random.choice(doors)\n",
    "    \n",
    "    if contestant_choice == 'first goat':\n",
    "        monty_choice = \"second goat\"\n",
    "        remaining_door = \"car\"\n",
    "    elif contestant_choice == \"second goat\":\n",
    "        monty_choice = \"first goat\"\n",
    "        remaining_door = \"car\"\n",
    "    elif contestant_choice == \"car\":\n",
    "        monty_choice = np.random.choice(goats)\n",
    "        remaining_door = other_goat(monty_choice)\n",
    "    \n",
    "    return [ contestant_choice, monty_choice, remaining_door]"
   ]
  },
  {
   "cell_type": "code",
   "execution_count": 47,
   "metadata": {},
   "outputs": [
    {
     "data": {
      "text/plain": [
       "['car', 'second goat', 'first goat']"
      ]
     },
     "execution_count": 47,
     "metadata": {},
     "output_type": "execute_result"
    }
   ],
   "source": [
    "monty_hall()\n",
    "# here we don't want to swap!"
   ]
  },
  {
   "cell_type": "code",
   "execution_count": 48,
   "metadata": {},
   "outputs": [
    {
     "data": {
      "text/plain": [
       "['first goat', 'second goat', 'car']"
      ]
     },
     "execution_count": 48,
     "metadata": {},
     "output_type": "execute_result"
    }
   ],
   "source": [
    "monty_hall()\n",
    "# here we want to swap!"
   ]
  },
  {
   "cell_type": "code",
   "execution_count": 52,
   "metadata": {},
   "outputs": [
    {
     "data": {
      "text/plain": [
       "['car', 'first goat', 'second goat']"
      ]
     },
     "execution_count": 52,
     "metadata": {},
     "output_type": "execute_result"
    }
   ],
   "source": [
    "monty_hall()\n"
   ]
  },
  {
   "cell_type": "code",
   "execution_count": 53,
   "metadata": {},
   "outputs": [
    {
     "data": {
      "text/html": [
       "<table border=\"1\" class=\"dataframe\">\n",
       "    <thead>\n",
       "        <tr>\n",
       "            <th>Guess</th> <th>Revealed</th> <th>Remaining</th>\n",
       "        </tr>\n",
       "    </thead>\n",
       "    <tbody>\n",
       "    </tbody>\n",
       "</table>"
      ],
      "text/plain": [
       "Guess | Revealed | Remaining"
      ]
     },
     "execution_count": 53,
     "metadata": {},
     "output_type": "execute_result"
    }
   ],
   "source": [
    "games = Table(['Guess', 'Revealed', 'Remaining'])\n",
    "games"
   ]
  },
  {
   "cell_type": "code",
   "execution_count": 54,
   "metadata": {},
   "outputs": [
    {
     "data": {
      "text/html": [
       "<table border=\"1\" class=\"dataframe\">\n",
       "    <thead>\n",
       "        <tr>\n",
       "            <th>Guess</th> <th>Revealed</th> <th>Remaining</th>\n",
       "        </tr>\n",
       "    </thead>\n",
       "    <tbody>\n",
       "        <tr>\n",
       "            <td>first goat</td> <td>second goat</td> <td>car      </td>\n",
       "        </tr>\n",
       "    </tbody>\n",
       "</table>"
      ],
      "text/plain": [
       "Guess      | Revealed    | Remaining\n",
       "first goat | second goat | car"
      ]
     },
     "execution_count": 54,
     "metadata": {},
     "output_type": "execute_result"
    }
   ],
   "source": [
    "games.append(monty_hall())\n",
    "# appending a row (the results of monty_hall())\n",
    "# to a table"
   ]
  },
  {
   "cell_type": "code",
   "execution_count": 55,
   "metadata": {},
   "outputs": [
    {
     "data": {
      "text/html": [
       "<table border=\"1\" class=\"dataframe\">\n",
       "    <thead>\n",
       "        <tr>\n",
       "            <th>Guess</th> <th>Revealed</th> <th>Remaining</th>\n",
       "        </tr>\n",
       "    </thead>\n",
       "    <tbody>\n",
       "        <tr>\n",
       "            <td>first goat </td> <td>second goat</td> <td>car       </td>\n",
       "        </tr>\n",
       "        <tr>\n",
       "            <td>first goat </td> <td>second goat</td> <td>car       </td>\n",
       "        </tr>\n",
       "        <tr>\n",
       "            <td>first goat </td> <td>second goat</td> <td>car       </td>\n",
       "        </tr>\n",
       "        <tr>\n",
       "            <td>second goat</td> <td>first goat </td> <td>car       </td>\n",
       "        </tr>\n",
       "        <tr>\n",
       "            <td>first goat </td> <td>second goat</td> <td>car       </td>\n",
       "        </tr>\n",
       "        <tr>\n",
       "            <td>car        </td> <td>second goat</td> <td>first goat</td>\n",
       "        </tr>\n",
       "        <tr>\n",
       "            <td>second goat</td> <td>first goat </td> <td>car       </td>\n",
       "        </tr>\n",
       "        <tr>\n",
       "            <td>second goat</td> <td>first goat </td> <td>car       </td>\n",
       "        </tr>\n",
       "        <tr>\n",
       "            <td>first goat </td> <td>second goat</td> <td>car       </td>\n",
       "        </tr>\n",
       "        <tr>\n",
       "            <td>first goat </td> <td>second goat</td> <td>car       </td>\n",
       "        </tr>\n",
       "    </tbody>\n",
       "</table>\n",
       "<p>... (2991 rows omitted)</p>"
      ],
      "text/plain": [
       "Guess       | Revealed    | Remaining\n",
       "first goat  | second goat | car\n",
       "first goat  | second goat | car\n",
       "first goat  | second goat | car\n",
       "second goat | first goat  | car\n",
       "first goat  | second goat | car\n",
       "car         | second goat | first goat\n",
       "second goat | first goat  | car\n",
       "second goat | first goat  | car\n",
       "first goat  | second goat | car\n",
       "first goat  | second goat | car\n",
       "... (2991 rows omitted)"
      ]
     },
     "execution_count": 55,
     "metadata": {},
     "output_type": "execute_result"
    }
   ],
   "source": [
    "# let's simulate 3000 repititions of the game above\n",
    "# calling on monty_hall\n",
    "# do the following 3000 times\n",
    "for i in np.arange(3000):\n",
    "    games.append(monty_hall())\n",
    "games\n",
    "# 3000 simulations of the game"
   ]
  },
  {
   "cell_type": "code",
   "execution_count": 56,
   "metadata": {},
   "outputs": [
    {
     "data": {
      "text/html": [
       "<table border=\"1\" class=\"dataframe\">\n",
       "    <thead>\n",
       "        <tr>\n",
       "            <th>Remaining</th> <th>count</th>\n",
       "        </tr>\n",
       "    </thead>\n",
       "    <tbody>\n",
       "        <tr>\n",
       "            <td>car        </td> <td>2000 </td>\n",
       "        </tr>\n",
       "        <tr>\n",
       "            <td>first goat </td> <td>496  </td>\n",
       "        </tr>\n",
       "        <tr>\n",
       "            <td>second goat</td> <td>505  </td>\n",
       "        </tr>\n",
       "    </tbody>\n",
       "</table>"
      ],
      "text/plain": [
       "Remaining   | count\n",
       "car         | 2000\n",
       "first goat  | 496\n",
       "second goat | 505"
      ]
     },
     "execution_count": 56,
     "metadata": {},
     "output_type": "execute_result"
    }
   ],
   "source": [
    "games.group('Remaining')\n",
    "# swap!"
   ]
  },
  {
   "cell_type": "code",
   "execution_count": 57,
   "metadata": {
    "scrolled": true
   },
   "outputs": [
    {
     "data": {
      "text/html": [
       "<table border=\"1\" class=\"dataframe\">\n",
       "    <thead>\n",
       "        <tr>\n",
       "            <th>Guess</th> <th>count</th>\n",
       "        </tr>\n",
       "    </thead>\n",
       "    <tbody>\n",
       "        <tr>\n",
       "            <td>car        </td> <td>1001 </td>\n",
       "        </tr>\n",
       "        <tr>\n",
       "            <td>first goat </td> <td>1027 </td>\n",
       "        </tr>\n",
       "        <tr>\n",
       "            <td>second goat</td> <td>973  </td>\n",
       "        </tr>\n",
       "    </tbody>\n",
       "</table>"
      ],
      "text/plain": [
       "Guess       | count\n",
       "car         | 1001\n",
       "first goat  | 1027\n",
       "second goat | 973"
      ]
     },
     "execution_count": 57,
     "metadata": {},
     "output_type": "execute_result"
    }
   ],
   "source": [
    "games.group('Guess')"
   ]
  },
  {
   "cell_type": "code",
   "execution_count": null,
   "metadata": {},
   "outputs": [],
   "source": [
    "#"
   ]
  }
 ],
 "metadata": {
  "kernelspec": {
   "display_name": "Python 3 (ipykernel)",
   "language": "python",
   "name": "python3"
  },
  "language_info": {
   "codemirror_mode": {
    "name": "ipython",
    "version": 3
   },
   "file_extension": ".py",
   "mimetype": "text/x-python",
   "name": "python",
   "nbconvert_exporter": "python",
   "pygments_lexer": "ipython3",
   "version": "3.9.10"
  },
  "toc": {
   "base_numbering": 1,
   "nav_menu": {},
   "number_sections": true,
   "sideBar": true,
   "skip_h1_title": false,
   "title_cell": "Table of Contents",
   "title_sidebar": "Contents",
   "toc_cell": false,
   "toc_position": {},
   "toc_section_display": true,
   "toc_window_display": false
  }
 },
 "nbformat": 4,
 "nbformat_minor": 2
}
