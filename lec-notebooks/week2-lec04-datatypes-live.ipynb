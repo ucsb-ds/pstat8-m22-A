{
 "cells": [
  {
   "cell_type": "code",
   "execution_count": 1,
   "metadata": {},
   "outputs": [],
   "source": [
    "from datascience import *\n",
    "import numpy as np"
   ]
  },
  {
   "cell_type": "markdown",
   "metadata": {},
   "source": [
    "## Review of Tables ##"
   ]
  },
  {
   "cell_type": "code",
   "execution_count": 2,
   "metadata": {},
   "outputs": [
    {
     "data": {
      "text/html": [
       "<table border=\"1\" class=\"dataframe\">\n",
       "    <thead>\n",
       "        <tr>\n",
       "            <th>name</th> <th>material</th> <th>city</th> <th>height</th> <th>completed</th>\n",
       "        </tr>\n",
       "    </thead>\n",
       "    <tbody>\n",
       "        <tr>\n",
       "            <td>One World Trade Center           </td> <td>composite</td> <td>New York City</td> <td>541.3 </td> <td>2014     </td>\n",
       "        </tr>\n",
       "        <tr>\n",
       "            <td>Willis Tower                     </td> <td>steel    </td> <td>Chicago      </td> <td>442.14</td> <td>1974     </td>\n",
       "        </tr>\n",
       "        <tr>\n",
       "            <td>432 Park Avenue                  </td> <td>concrete </td> <td>New York City</td> <td>425.5 </td> <td>2015     </td>\n",
       "        </tr>\n",
       "        <tr>\n",
       "            <td>Trump International Hotel & Tower</td> <td>concrete </td> <td>Chicago      </td> <td>423.22</td> <td>2009     </td>\n",
       "        </tr>\n",
       "        <tr>\n",
       "            <td>Empire State Building            </td> <td>steel    </td> <td>New York City</td> <td>381   </td> <td>1931     </td>\n",
       "        </tr>\n",
       "        <tr>\n",
       "            <td>Bank of America Tower            </td> <td>composite</td> <td>New York City</td> <td>365.8 </td> <td>2009     </td>\n",
       "        </tr>\n",
       "        <tr>\n",
       "            <td>Stratosphere Tower               </td> <td>concrete </td> <td>Las Vegas    </td> <td>350.22</td> <td>1996     </td>\n",
       "        </tr>\n",
       "        <tr>\n",
       "            <td>Aon Center                       </td> <td>steel    </td> <td>Chicago      </td> <td>346.26</td> <td>1973     </td>\n",
       "        </tr>\n",
       "        <tr>\n",
       "            <td>John Hancock Center              </td> <td>steel    </td> <td>Chicago      </td> <td>343.69</td> <td>1969     </td>\n",
       "        </tr>\n",
       "        <tr>\n",
       "            <td>WITI TV Tower                    </td> <td>steel    </td> <td>Shorewood    </td> <td>329   </td> <td>1962     </td>\n",
       "        </tr>\n",
       "    </tbody>\n",
       "</table>\n",
       "<p>... (190 rows omitted)</p>"
      ],
      "text/plain": [
       "name                              | material  | city          | height | completed\n",
       "One World Trade Center            | composite | New York City | 541.3  | 2014\n",
       "Willis Tower                      | steel     | Chicago       | 442.14 | 1974\n",
       "432 Park Avenue                   | concrete  | New York City | 425.5  | 2015\n",
       "Trump International Hotel & Tower | concrete  | Chicago       | 423.22 | 2009\n",
       "Empire State Building             | steel     | New York City | 381    | 1931\n",
       "Bank of America Tower             | composite | New York City | 365.8  | 2009\n",
       "Stratosphere Tower                | concrete  | Las Vegas     | 350.22 | 1996\n",
       "Aon Center                        | steel     | Chicago       | 346.26 | 1973\n",
       "John Hancock Center               | steel     | Chicago       | 343.69 | 1969\n",
       "WITI TV Tower                     | steel     | Shorewood     | 329    | 1962\n",
       "... (190 rows omitted)"
      ]
     },
     "execution_count": 2,
     "metadata": {},
     "output_type": "execute_result"
    }
   ],
   "source": [
    "skyscrapers = Table.read_table('data/skyscrapers.csv')\n",
    "skyscrapers\n",
    "#height units is in meters"
   ]
  },
  {
   "cell_type": "code",
   "execution_count": 14,
   "metadata": {},
   "outputs": [
    {
     "data": {
      "text/html": [
       "<table border=\"1\" class=\"dataframe\">\n",
       "    <thead>\n",
       "        <tr>\n",
       "            <th>name</th> <th>height</th>\n",
       "        </tr>\n",
       "    </thead>\n",
       "    <tbody>\n",
       "        <tr>\n",
       "            <td>One World Trade Center           </td> <td>541.3 </td>\n",
       "        </tr>\n",
       "        <tr>\n",
       "            <td>Willis Tower                     </td> <td>442.14</td>\n",
       "        </tr>\n",
       "        <tr>\n",
       "            <td>432 Park Avenue                  </td> <td>425.5 </td>\n",
       "        </tr>\n",
       "        <tr>\n",
       "            <td>Trump International Hotel & Tower</td> <td>423.22</td>\n",
       "        </tr>\n",
       "        <tr>\n",
       "            <td>Empire State Building            </td> <td>381   </td>\n",
       "        </tr>\n",
       "        <tr>\n",
       "            <td>Bank of America Tower            </td> <td>365.8 </td>\n",
       "        </tr>\n",
       "        <tr>\n",
       "            <td>Stratosphere Tower               </td> <td>350.22</td>\n",
       "        </tr>\n",
       "        <tr>\n",
       "            <td>Aon Center                       </td> <td>346.26</td>\n",
       "        </tr>\n",
       "        <tr>\n",
       "            <td>John Hancock Center              </td> <td>343.69</td>\n",
       "        </tr>\n",
       "        <tr>\n",
       "            <td>WITI TV Tower                    </td> <td>329   </td>\n",
       "        </tr>\n",
       "    </tbody>\n",
       "</table>\n",
       "<p>... (190 rows omitted)</p>"
      ],
      "text/plain": [
       "name                              | height\n",
       "One World Trade Center            | 541.3\n",
       "Willis Tower                      | 442.14\n",
       "432 Park Avenue                   | 425.5\n",
       "Trump International Hotel & Tower | 423.22\n",
       "Empire State Building             | 381\n",
       "Bank of America Tower             | 365.8\n",
       "Stratosphere Tower                | 350.22\n",
       "Aon Center                        | 346.26\n",
       "John Hancock Center               | 343.69\n",
       "WITI TV Tower                     | 329\n",
       "... (190 rows omitted)"
      ]
     },
     "execution_count": 14,
     "metadata": {},
     "output_type": "execute_result"
    }
   ],
   "source": [
    "skyscrapers_name_height = skyscrapers.select('name', 'height')\n",
    "skyscrapers_name_height"
   ]
  },
  {
   "cell_type": "code",
   "execution_count": 5,
   "metadata": {},
   "outputs": [
    {
     "data": {
      "text/html": [
       "<table border=\"1\" class=\"dataframe\">\n",
       "    <thead>\n",
       "        <tr>\n",
       "            <th>name</th> <th>material</th> <th>city</th> <th>height</th> <th>completed</th>\n",
       "        </tr>\n",
       "    </thead>\n",
       "    <tbody>\n",
       "        <tr>\n",
       "            <td>One World Trade Center           </td> <td>composite</td> <td>New York City</td> <td>541.3 </td> <td>2014     </td>\n",
       "        </tr>\n",
       "        <tr>\n",
       "            <td>Willis Tower                     </td> <td>steel    </td> <td>Chicago      </td> <td>442.14</td> <td>1974     </td>\n",
       "        </tr>\n",
       "        <tr>\n",
       "            <td>432 Park Avenue                  </td> <td>concrete </td> <td>New York City</td> <td>425.5 </td> <td>2015     </td>\n",
       "        </tr>\n",
       "        <tr>\n",
       "            <td>Trump International Hotel & Tower</td> <td>concrete </td> <td>Chicago      </td> <td>423.22</td> <td>2009     </td>\n",
       "        </tr>\n",
       "        <tr>\n",
       "            <td>Empire State Building            </td> <td>steel    </td> <td>New York City</td> <td>381   </td> <td>1931     </td>\n",
       "        </tr>\n",
       "        <tr>\n",
       "            <td>Bank of America Tower            </td> <td>composite</td> <td>New York City</td> <td>365.8 </td> <td>2009     </td>\n",
       "        </tr>\n",
       "        <tr>\n",
       "            <td>Stratosphere Tower               </td> <td>concrete </td> <td>Las Vegas    </td> <td>350.22</td> <td>1996     </td>\n",
       "        </tr>\n",
       "        <tr>\n",
       "            <td>Aon Center                       </td> <td>steel    </td> <td>Chicago      </td> <td>346.26</td> <td>1973     </td>\n",
       "        </tr>\n",
       "        <tr>\n",
       "            <td>John Hancock Center              </td> <td>steel    </td> <td>Chicago      </td> <td>343.69</td> <td>1969     </td>\n",
       "        </tr>\n",
       "        <tr>\n",
       "            <td>WITI TV Tower                    </td> <td>steel    </td> <td>Shorewood    </td> <td>329   </td> <td>1962     </td>\n",
       "        </tr>\n",
       "    </tbody>\n",
       "</table>\n",
       "<p>... (190 rows omitted)</p>"
      ],
      "text/plain": [
       "name                              | material  | city          | height | completed\n",
       "One World Trade Center            | composite | New York City | 541.3  | 2014\n",
       "Willis Tower                      | steel     | Chicago       | 442.14 | 1974\n",
       "432 Park Avenue                   | concrete  | New York City | 425.5  | 2015\n",
       "Trump International Hotel & Tower | concrete  | Chicago       | 423.22 | 2009\n",
       "Empire State Building             | steel     | New York City | 381    | 1931\n",
       "Bank of America Tower             | composite | New York City | 365.8  | 2009\n",
       "Stratosphere Tower                | concrete  | Las Vegas     | 350.22 | 1996\n",
       "Aon Center                        | steel     | Chicago       | 346.26 | 1973\n",
       "John Hancock Center               | steel     | Chicago       | 343.69 | 1969\n",
       "WITI TV Tower                     | steel     | Shorewood     | 329    | 1962\n",
       "... (190 rows omitted)"
      ]
     },
     "execution_count": 5,
     "metadata": {},
     "output_type": "execute_result"
    }
   ],
   "source": [
    "skyscrapers"
   ]
  },
  {
   "cell_type": "code",
   "execution_count": 10,
   "metadata": {},
   "outputs": [],
   "source": [
    "skyscrapers_drop = skyscrapers.drop('completed', 'city', 'material')"
   ]
  },
  {
   "cell_type": "code",
   "execution_count": 11,
   "metadata": {},
   "outputs": [
    {
     "data": {
      "text/html": [
       "<table border=\"1\" class=\"dataframe\">\n",
       "    <thead>\n",
       "        <tr>\n",
       "            <th>name</th> <th>height</th>\n",
       "        </tr>\n",
       "    </thead>\n",
       "    <tbody>\n",
       "        <tr>\n",
       "            <td>One World Trade Center                          </td> <td>541.3 </td>\n",
       "        </tr>\n",
       "        <tr>\n",
       "            <td>Willis Tower                                    </td> <td>442.14</td>\n",
       "        </tr>\n",
       "        <tr>\n",
       "            <td>432 Park Avenue                                 </td> <td>425.5 </td>\n",
       "        </tr>\n",
       "        <tr>\n",
       "            <td>Trump International Hotel & Tower               </td> <td>423.22</td>\n",
       "        </tr>\n",
       "        <tr>\n",
       "            <td>Empire State Building                           </td> <td>381   </td>\n",
       "        </tr>\n",
       "        <tr>\n",
       "            <td>Bank of America Tower                           </td> <td>365.8 </td>\n",
       "        </tr>\n",
       "        <tr>\n",
       "            <td>Stratosphere Tower                              </td> <td>350.22</td>\n",
       "        </tr>\n",
       "        <tr>\n",
       "            <td>Aon Center                                      </td> <td>346.26</td>\n",
       "        </tr>\n",
       "        <tr>\n",
       "            <td>John Hancock Center                             </td> <td>343.69</td>\n",
       "        </tr>\n",
       "        <tr>\n",
       "            <td>WITI TV Tower                                   </td> <td>329   </td>\n",
       "        </tr>\n",
       "        <tr>\n",
       "            <td>Chrysler Building                               </td> <td>318.9 </td>\n",
       "        </tr>\n",
       "        <tr>\n",
       "            <td>New York Times Tower                            </td> <td>318.77</td>\n",
       "        </tr>\n",
       "        <tr>\n",
       "            <td>Bank of America Plaza                           </td> <td>311.8 </td>\n",
       "        </tr>\n",
       "        <tr>\n",
       "            <td>U.S. Bank Tower                                 </td> <td>310.29</td>\n",
       "        </tr>\n",
       "        <tr>\n",
       "            <td>The Franklin - North Tower                      </td> <td>306.94</td>\n",
       "        </tr>\n",
       "        <tr>\n",
       "            <td>One57                                           </td> <td>306.07</td>\n",
       "        </tr>\n",
       "        <tr>\n",
       "            <td>JPMorgan Chase Tower                            </td> <td>305.41</td>\n",
       "        </tr>\n",
       "        <tr>\n",
       "            <td>Two Prudential Plaza                            </td> <td>303.28</td>\n",
       "        </tr>\n",
       "        <tr>\n",
       "            <td>Wells Fargo Plaza                               </td> <td>302.37</td>\n",
       "        </tr>\n",
       "        <tr>\n",
       "            <td>4 World Trade Center                            </td> <td>297.73</td>\n",
       "        </tr>\n",
       "        <tr>\n",
       "            <td>Comcast Center                                  </td> <td>296.73</td>\n",
       "        </tr>\n",
       "        <tr>\n",
       "            <td>311 South Wacker Drive                          </td> <td>292.92</td>\n",
       "        </tr>\n",
       "        <tr>\n",
       "            <td>70 Pine                                         </td> <td>290.17</td>\n",
       "        </tr>\n",
       "        <tr>\n",
       "            <td>Key Tower                                       </td> <td>288.65</td>\n",
       "        </tr>\n",
       "        <tr>\n",
       "            <td>One Liberty Place                               </td> <td>288.04</td>\n",
       "        </tr>\n",
       "        <tr>\n",
       "            <td>Columbia Center                                 </td> <td>284.38</td>\n",
       "        </tr>\n",
       "        <tr>\n",
       "            <td>The Trump Building                              </td> <td>282.55</td>\n",
       "        </tr>\n",
       "        <tr>\n",
       "            <td>Bank of America Plaza                           </td> <td>280.72</td>\n",
       "        </tr>\n",
       "        <tr>\n",
       "            <td>Citigroup Center                                </td> <td>278.9 </td>\n",
       "        </tr>\n",
       "        <tr>\n",
       "            <td>Williams Tower                                  </td> <td>274.63</td>\n",
       "        </tr>\n",
       "        <tr>\n",
       "            <td>Renaissance Tower                               </td> <td>270.06</td>\n",
       "        </tr>\n",
       "        <tr>\n",
       "            <td>Bank of America Corporate Center                </td> <td>265.48</td>\n",
       "        </tr>\n",
       "        <tr>\n",
       "            <td>Eight Spruce Street                             </td> <td>265.18</td>\n",
       "        </tr>\n",
       "        <tr>\n",
       "            <td>900 North Michigan Avenue                       </td> <td>265   </td>\n",
       "        </tr>\n",
       "        <tr>\n",
       "            <td>SunTrust Plaza                                  </td> <td>264.25</td>\n",
       "        </tr>\n",
       "        <tr>\n",
       "            <td>Trump World Tower                               </td> <td>262.44</td>\n",
       "        </tr>\n",
       "        <tr>\n",
       "            <td>Water Tower Place                               </td> <td>261.88</td>\n",
       "        </tr>\n",
       "        <tr>\n",
       "            <td>Aqua                                            </td> <td>261.75</td>\n",
       "        </tr>\n",
       "        <tr>\n",
       "            <td>Aon Center                                      </td> <td>261.52</td>\n",
       "        </tr>\n",
       "        <tr>\n",
       "            <td>Transamerica Pyramid                            </td> <td>260   </td>\n",
       "        </tr>\n",
       "        <tr>\n",
       "            <td>Comcast Building                                </td> <td>259.08</td>\n",
       "        </tr>\n",
       "        <tr>\n",
       "            <td>Chase Tower                                     </td> <td>259.08</td>\n",
       "        </tr>\n",
       "        <tr>\n",
       "            <td>Two Liberty Place                               </td> <td>258.47</td>\n",
       "        </tr>\n",
       "        <tr>\n",
       "            <td>Park Tower                                      </td> <td>257.35</td>\n",
       "        </tr>\n",
       "        <tr>\n",
       "            <td>Devon Energy Center                             </td> <td>257.23</td>\n",
       "        </tr>\n",
       "        <tr>\n",
       "            <td>U.S. Steel Tower                                </td> <td>256.34</td>\n",
       "        </tr>\n",
       "        <tr>\n",
       "            <td>One Atlantic Center                             </td> <td>249.94</td>\n",
       "        </tr>\n",
       "        <tr>\n",
       "            <td>The Legacy at Millennium Park                   </td> <td>249.33</td>\n",
       "        </tr>\n",
       "        <tr>\n",
       "            <td>CitySpire                                       </td> <td>248.11</td>\n",
       "        </tr>\n",
       "        <tr>\n",
       "            <td>28 Liberty                                      </td> <td>247.81</td>\n",
       "        </tr>\n",
       "        <tr>\n",
       "            <td>4 Times Square                                  </td> <td>246.54</td>\n",
       "        </tr>\n",
       "        <tr>\n",
       "            <td>MetLife Building                                </td> <td>246.28</td>\n",
       "        </tr>\n",
       "        <tr>\n",
       "            <td>Bloomberg Tower                                 </td> <td>245.62</td>\n",
       "        </tr>\n",
       "        <tr>\n",
       "            <td>Mellon Bank Center                              </td> <td>241.41</td>\n",
       "        </tr>\n",
       "        <tr>\n",
       "            <td>Woolworth Building                              </td> <td>241.4 </td>\n",
       "        </tr>\n",
       "        <tr>\n",
       "            <td>IDS Tower                                       </td> <td>241.38</td>\n",
       "        </tr>\n",
       "        <tr>\n",
       "            <td>200 Clarendon                                   </td> <td>240.79</td>\n",
       "        </tr>\n",
       "        <tr>\n",
       "            <td>Four Seasons Hotel & Tower                      </td> <td>240.41</td>\n",
       "        </tr>\n",
       "        <tr>\n",
       "            <td>Comerica Bank Tower                             </td> <td>239.88</td>\n",
       "        </tr>\n",
       "        <tr>\n",
       "            <td>Duke Energy Center                              </td> <td>239.7 </td>\n",
       "        </tr>\n",
       "        <tr>\n",
       "            <td>300 North LaSalle                               </td> <td>239.12</td>\n",
       "        </tr>\n",
       "        <tr>\n",
       "            <td>30 Hudson Street                                </td> <td>238.05</td>\n",
       "        </tr>\n",
       "        <tr>\n",
       "            <td>Bank of America Center                          </td> <td>237.75</td>\n",
       "        </tr>\n",
       "        <tr>\n",
       "            <td>555 California Street                           </td> <td>237.44</td>\n",
       "        </tr>\n",
       "        <tr>\n",
       "            <td>1 Worldwide Plaza                               </td> <td>237.14</td>\n",
       "        </tr>\n",
       "        <tr>\n",
       "            <td>Capella Tower                                   </td> <td>236.53</td>\n",
       "        </tr>\n",
       "        <tr>\n",
       "            <td>Wells Fargo Center                              </td> <td>236.32</td>\n",
       "        </tr>\n",
       "        <tr>\n",
       "            <td>1201 Third Avenue Tower                         </td> <td>235.31</td>\n",
       "        </tr>\n",
       "        <tr>\n",
       "            <td>191 Peachtree Tower                             </td> <td>234.7 </td>\n",
       "        </tr>\n",
       "        <tr>\n",
       "            <td>Three First National Plaza                      </td> <td>233.65</td>\n",
       "        </tr>\n",
       "        <tr>\n",
       "            <td>Southeast Financial Center                      </td> <td>232.8 </td>\n",
       "        </tr>\n",
       "        <tr>\n",
       "            <td>Heritage Plaza                                  </td> <td>232.26</td>\n",
       "        </tr>\n",
       "        <tr>\n",
       "            <td>Carnegie Hall Tower                             </td> <td>230.74</td>\n",
       "        </tr>\n",
       "        <tr>\n",
       "            <td>Chicago Title & Trust Center                    </td> <td>230.48</td>\n",
       "        </tr>\n",
       "        <tr>\n",
       "            <td>Enterprise Plaza                                </td> <td>230.4 </td>\n",
       "        </tr>\n",
       "        <tr>\n",
       "            <td>383 Madison Avenue                              </td> <td>230.25</td>\n",
       "        </tr>\n",
       "        <tr>\n",
       "            <td>Courtyard & Residence Inn Manhattan/Central Park</td> <td>229.62</td>\n",
       "        </tr>\n",
       "        <tr>\n",
       "            <td>AXA Center                                      </td> <td>229.21</td>\n",
       "        </tr>\n",
       "        <tr>\n",
       "            <td>One Penn Plaza                                  </td> <td>228.6 </td>\n",
       "        </tr>\n",
       "        <tr>\n",
       "            <td>1251 Avenue of the Americas                     </td> <td>228.6 </td>\n",
       "        </tr>\n",
       "        <tr>\n",
       "            <td>Prudential Tower                                </td> <td>228.6 </td>\n",
       "        </tr>\n",
       "        <tr>\n",
       "            <td>Two California Plaza                            </td> <td>228.6 </td>\n",
       "        </tr>\n",
       "        <tr>\n",
       "            <td>Time Warner Center North Tower                  </td> <td>228.32</td>\n",
       "        </tr>\n",
       "        <tr>\n",
       "            <td>Time Warner Center South Tower                  </td> <td>228.32</td>\n",
       "        </tr>\n",
       "        <tr>\n",
       "            <td>Gas Company Tower                               </td> <td>228.3 </td>\n",
       "        </tr>\n",
       "        <tr>\n",
       "            <td>Goldman Sachs Headquarters                      </td> <td>228.3 </td>\n",
       "        </tr>\n",
       "        <tr>\n",
       "            <td>60 Wall Street                                  </td> <td>227.08</td>\n",
       "        </tr>\n",
       "        <tr>\n",
       "            <td>One Astor Plaza                                 </td> <td>227.08</td>\n",
       "        </tr>\n",
       "        <tr>\n",
       "            <td>RSA Battle House Tower                          </td> <td>227.08</td>\n",
       "        </tr>\n",
       "        <tr>\n",
       "            <td>Blue Cross-Blue Shield Tower                    </td> <td>226.72</td>\n",
       "        </tr>\n",
       "        <tr>\n",
       "            <td>7 World Trade Center                            </td> <td>226.5 </td>\n",
       "        </tr>\n",
       "        <tr>\n",
       "            <td>One Liberty Plaza                               </td> <td>226.47</td>\n",
       "        </tr>\n",
       "        <tr>\n",
       "            <td>Twenty Exchange                                 </td> <td>225.86</td>\n",
       "        </tr>\n",
       "        <tr>\n",
       "            <td>Centerpoint Energy Plaza                        </td> <td>225.86</td>\n",
       "        </tr>\n",
       "        <tr>\n",
       "            <td>Two Union Square                                </td> <td>225.56</td>\n",
       "        </tr>\n",
       "        <tr>\n",
       "            <td>Three Logan                                     </td> <td>225.25</td>\n",
       "        </tr>\n",
       "        <tr>\n",
       "            <td>Three World Financial Center                    </td> <td>225.2 </td>\n",
       "        </tr>\n",
       "        <tr>\n",
       "            <td>Bank of America Plaza                           </td> <td>224.03</td>\n",
       "        </tr>\n",
       "        <tr>\n",
       "            <td>1600 Smith Street                               </td> <td>223.12</td>\n",
       "        </tr>\n",
       "        <tr>\n",
       "            <td>Olympia Centre                                  </td> <td>222.9 </td>\n",
       "        </tr>\n",
       "        <tr>\n",
       "            <td>Detroit Marriott at the Renaissance Center      </td> <td>221.49</td>\n",
       "        </tr>\n",
       "        <tr>\n",
       "            <td>One Museum Park                                 </td> <td>221.34</td>\n",
       "        </tr>\n",
       "        <tr>\n",
       "            <td>Times Square Tower                              </td> <td>221.29</td>\n",
       "        </tr>\n",
       "        <tr>\n",
       "            <td>One Mellon Center                               </td> <td>221   </td>\n",
       "        </tr>\n",
       "        <tr>\n",
       "            <td>777 Tower                                       </td> <td>221   </td>\n",
       "        </tr>\n",
       "        <tr>\n",
       "            <td>Fulbright Tower                                 </td> <td>221   </td>\n",
       "        </tr>\n",
       "        <tr>\n",
       "            <td>Westin Peachtree Plaza                          </td> <td>220.37</td>\n",
       "        </tr>\n",
       "        <tr>\n",
       "            <td>Wells Fargo Tower                               </td> <td>220.37</td>\n",
       "        </tr>\n",
       "        <tr>\n",
       "            <td>Seattle Municipal Tower                         </td> <td>220.07</td>\n",
       "        </tr>\n",
       "        <tr>\n",
       "            <td>Fountain Place                                  </td> <td>219.46</td>\n",
       "        </tr>\n",
       "        <tr>\n",
       "            <td>Revel Resort and Casino                         </td> <td>218.92</td>\n",
       "        </tr>\n",
       "        <tr>\n",
       "            <td>Figueroa at Wilshire                            </td> <td>218.54</td>\n",
       "        </tr>\n",
       "        <tr>\n",
       "            <td>Metropolitan Tower                              </td> <td>218.24</td>\n",
       "        </tr>\n",
       "        <tr>\n",
       "            <td>Republic Plaza                                  </td> <td>217.63</td>\n",
       "        </tr>\n",
       "        <tr>\n",
       "            <td>One Shell Plaza                                 </td> <td>217.63</td>\n",
       "        </tr>\n",
       "        <tr>\n",
       "            <td>1801 California Plaza                           </td> <td>216.11</td>\n",
       "        </tr>\n",
       "        <tr>\n",
       "            <td>Terminal Tower                                  </td> <td>215.8 </td>\n",
       "        </tr>\n",
       "        <tr>\n",
       "            <td>JPMorgan Chase Tower                            </td> <td>215.5 </td>\n",
       "        </tr>\n",
       "        <tr>\n",
       "            <td>General Motors Building                         </td> <td>214.89</td>\n",
       "        </tr>\n",
       "        <tr>\n",
       "            <td>Chase Tower                                     </td> <td>213.67</td>\n",
       "        </tr>\n",
       "        <tr>\n",
       "            <td>Metropolitan Life Tower                         </td> <td>213.36</td>\n",
       "        </tr>\n",
       "        <tr>\n",
       "            <td>City National Tower                             </td> <td>213.06</td>\n",
       "        </tr>\n",
       "        <tr>\n",
       "            <td>Paul Hastings Tower                             </td> <td>213.06</td>\n",
       "        </tr>\n",
       "        <tr>\n",
       "            <td>Wells Fargo Center                              </td> <td>212.75</td>\n",
       "        </tr>\n",
       "        <tr>\n",
       "            <td>500 Fifth Avenue                                </td> <td>212.45</td>\n",
       "        </tr>\n",
       "        <tr>\n",
       "            <td>One Shell Square                                </td> <td>212.45</td>\n",
       "        </tr>\n",
       "        <tr>\n",
       "            <td>AMA Plaza                                       </td> <td>211.84</td>\n",
       "        </tr>\n",
       "        <tr>\n",
       "            <td>345 California Center                           </td> <td>211.84</td>\n",
       "        </tr>\n",
       "        <tr>\n",
       "            <td>Americas Tower                                  </td> <td>210.92</td>\n",
       "        </tr>\n",
       "        <tr>\n",
       "            <td>1400 Smith Street                               </td> <td>210.52</td>\n",
       "        </tr>\n",
       "        <tr>\n",
       "            <td>Solow Building                                  </td> <td>210   </td>\n",
       "        </tr>\n",
       "        <tr>\n",
       "            <td>HSBC Bank Building                              </td> <td>209.71</td>\n",
       "        </tr>\n",
       "        <tr>\n",
       "            <td>55 Water Street                                 </td> <td>209.4 </td>\n",
       "        </tr>\n",
       "        <tr>\n",
       "            <td>277 Park Avenue                                 </td> <td>209.4 </td>\n",
       "        </tr>\n",
       "        <tr>\n",
       "            <td>Waldorf Astoria Chicago                         </td> <td>209   </td>\n",
       "        </tr>\n",
       "        <tr>\n",
       "            <td>Three Allen Center                              </td> <td>208.79</td>\n",
       "        </tr>\n",
       "        <tr>\n",
       "            <td>Random House Tower                              </td> <td>208.49</td>\n",
       "        </tr>\n",
       "        <tr>\n",
       "            <td>The Austonian                                   </td> <td>208.15</td>\n",
       "        </tr>\n",
       "        <tr>\n",
       "            <td>Four Seasons Hotel                              </td> <td>207.88</td>\n",
       "        </tr>\n",
       "        <tr>\n",
       "            <td>111 South Wacker                                </td> <td>207.64</td>\n",
       "        </tr>\n",
       "        <tr>\n",
       "            <td>181 West Madison                                </td> <td>207.27</td>\n",
       "        </tr>\n",
       "        <tr>\n",
       "            <td>Hyatt Center                                    </td> <td>207.1 </td>\n",
       "        </tr>\n",
       "        <tr>\n",
       "            <td>Marquis                                         </td> <td>207   </td>\n",
       "        </tr>\n",
       "        <tr>\n",
       "            <td>LyondellBassell Tower                           </td> <td>206.8 </td>\n",
       "        </tr>\n",
       "        <tr>\n",
       "            <td>AT&T Building                                   </td> <td>206.35</td>\n",
       "        </tr>\n",
       "        <tr>\n",
       "            <td>Sky                                             </td> <td>206   </td>\n",
       "        </tr>\n",
       "        <tr>\n",
       "            <td>McGraw-Hill Building                            </td> <td>205.44</td>\n",
       "        </tr>\n",
       "        <tr>\n",
       "            <td>One Magnificent Mile                            </td> <td>205.13</td>\n",
       "        </tr>\n",
       "        <tr>\n",
       "            <td>One Grand Central Place                         </td> <td>205.13</td>\n",
       "        </tr>\n",
       "        <tr>\n",
       "            <td>Citigroup Building                              </td> <td>205.13</td>\n",
       "        </tr>\n",
       "        <tr>\n",
       "            <td>Barclay Tower                                   </td> <td>205.06</td>\n",
       "        </tr>\n",
       "        <tr>\n",
       "            <td>340 on the Park                                 </td> <td>204.9 </td>\n",
       "        </tr>\n",
       "        <tr>\n",
       "            <td>Paramount Plaza                                 </td> <td>204.22</td>\n",
       "        </tr>\n",
       "        <tr>\n",
       "            <td>United Building                                 </td> <td>203.61</td>\n",
       "        </tr>\n",
       "        <tr>\n",
       "            <td>33 South 6th Street                             </td> <td>203.58</td>\n",
       "        </tr>\n",
       "        <tr>\n",
       "            <td>BOK Tower                                       </td> <td>203.3 </td>\n",
       "        </tr>\n",
       "        <tr>\n",
       "            <td>Ritz-Carlton/Marriott Marquis Los Angeles       </td> <td>203.28</td>\n",
       "        </tr>\n",
       "        <tr>\n",
       "            <td>Sovereign                                       </td> <td>202.69</td>\n",
       "        </tr>\n",
       "        <tr>\n",
       "            <td>Great American Tower at Queen City Square       </td> <td>202.69</td>\n",
       "        </tr>\n",
       "        <tr>\n",
       "            <td>Trump Tower                                     </td> <td>202.39</td>\n",
       "        </tr>\n",
       "        <tr>\n",
       "            <td>Hearst Tower                                    </td> <td>200.81</td>\n",
       "        </tr>\n",
       "        <tr>\n",
       "            <td>200 Public Square                               </td> <td>200.56</td>\n",
       "        </tr>\n",
       "        <tr>\n",
       "            <td>1180 Peachtree                                  </td> <td>200.16</td>\n",
       "        </tr>\n",
       "        <tr>\n",
       "            <td>Wells Fargo Tower                               </td> <td>199.5 </td>\n",
       "        </tr>\n",
       "        <tr>\n",
       "            <td>One Wall Street                                 </td> <td>199.34</td>\n",
       "        </tr>\n",
       "        <tr>\n",
       "            <td>Silver Towers East                              </td> <td>199.17</td>\n",
       "        </tr>\n",
       "        <tr>\n",
       "            <td>Silver Towers West                              </td> <td>199.17</td>\n",
       "        </tr>\n",
       "        <tr>\n",
       "            <td>599 Lexington Avenue                            </td> <td>199.04</td>\n",
       "        </tr>\n",
       "        <tr>\n",
       "            <td>UBS Tower                                       </td> <td>198.58</td>\n",
       "        </tr>\n",
       "        <tr>\n",
       "            <td>712 5th Avenue                                  </td> <td>198.12</td>\n",
       "        </tr>\n",
       "        <tr>\n",
       "            <td>900 Biscayne Bay                                </td> <td>198   </td>\n",
       "        </tr>\n",
       "        <tr>\n",
       "            <td>Chanin Building                                 </td> <td>197.8 </td>\n",
       "        </tr>\n",
       "        <tr>\n",
       "            <td>245 Park Avenue                                 </td> <td>197.51</td>\n",
       "        </tr>\n",
       "        <tr>\n",
       "            <td>Richard J. Daley Center                         </td> <td>197.51</td>\n",
       "        </tr>\n",
       "        <tr>\n",
       "            <td>550 Madison Avenue                              </td> <td>197.32</td>\n",
       "        </tr>\n",
       "        <tr>\n",
       "            <td>55 East Erie                                    </td> <td>197.15</td>\n",
       "        </tr>\n",
       "        <tr>\n",
       "            <td>Millennium Tower                                </td> <td>196.6 </td>\n",
       "        </tr>\n",
       "        <tr>\n",
       "            <td>Two World Financial Center                      </td> <td>196.6 </td>\n",
       "        </tr>\n",
       "        <tr>\n",
       "            <td>Lake Point Tower                                </td> <td>196.45</td>\n",
       "        </tr>\n",
       "        <tr>\n",
       "            <td>1095 Avenue of the Americas                     </td> <td>196.44</td>\n",
       "        </tr>\n",
       "        <tr>\n",
       "            <td>River East Center                               </td> <td>196.29</td>\n",
       "        </tr>\n",
       "        <tr>\n",
       "            <td>570 Lexington Avenue                            </td> <td>196   </td>\n",
       "        </tr>\n",
       "        <tr>\n",
       "            <td>Mansions at Acqualina                           </td> <td>196   </td>\n",
       "        </tr>\n",
       "        <tr>\n",
       "            <td>The Palazzo                                     </td> <td>195.68</td>\n",
       "        </tr>\n",
       "        <tr>\n",
       "            <td>Grand Plaza Apartments                          </td> <td>195.38</td>\n",
       "        </tr>\n",
       "        <tr>\n",
       "            <td>1 New York Plaza                                </td> <td>195.07</td>\n",
       "        </tr>\n",
       "        <tr>\n",
       "            <td>Four Seasons Hotel & Private Residences         </td> <td>194.75</td>\n",
       "        </tr>\n",
       "        <tr>\n",
       "            <td>155 North Wacker                                </td> <td>194.57</td>\n",
       "        </tr>\n",
       "        <tr>\n",
       "            <td>1 MiMA Tower                                    </td> <td>194.55</td>\n",
       "        </tr>\n",
       "        <tr>\n",
       "            <td>Leo Burnett Building                            </td> <td>193.55</td>\n",
       "        </tr>\n",
       "        <tr>\n",
       "            <td>One PPG Place                                   </td> <td>193.55</td>\n",
       "        </tr>\n",
       "        <tr>\n",
       "            <td>One First National Center                       </td> <td>193.25</td>\n",
       "        </tr>\n",
       "        <tr>\n",
       "            <td>345 Park Avenue                                 </td> <td>193.25</td>\n",
       "        </tr>\n",
       "        <tr>\n",
       "            <td>BG Group Place                                  </td> <td>192.74</td>\n",
       "        </tr>\n",
       "        <tr>\n",
       "            <td>Mercantile Building                             </td> <td>192.6 </td>\n",
       "        </tr>\n",
       "        <tr>\n",
       "            <td>Langham Place                                   </td> <td>192.58</td>\n",
       "        </tr>\n",
       "        <tr>\n",
       "            <td>The Heritage at Millennium Park                 </td> <td>192.38</td>\n",
       "        </tr>\n",
       "        <tr>\n",
       "            <td>Encore                                          </td> <td>192.33</td>\n",
       "        </tr>\n",
       "        <tr>\n",
       "            <td>Mint at Riverfront                              </td> <td>192.28</td>\n",
       "        </tr>\n",
       "        <tr>\n",
       "            <td>W New York Downtown Hotel & Residences          </td> <td>192.11</td>\n",
       "        </tr>\n",
       "    </tbody>\n",
       "</table>"
      ],
      "text/plain": [
       "<IPython.core.display.HTML object>"
      ]
     },
     "metadata": {},
     "output_type": "display_data"
    }
   ],
   "source": [
    "skyscrapers_drop.show()"
   ]
  },
  {
   "cell_type": "code",
   "execution_count": 15,
   "metadata": {},
   "outputs": [
    {
     "data": {
      "text/html": [
       "<table border=\"1\" class=\"dataframe\">\n",
       "    <thead>\n",
       "        <tr>\n",
       "            <th>name</th> <th>material</th> <th>city</th> <th>height</th> <th>completed</th>\n",
       "        </tr>\n",
       "    </thead>\n",
       "    <tbody>\n",
       "        <tr>\n",
       "            <td>U.S. Bank Tower      </td> <td>steel   </td> <td>Los Angeles</td> <td>310.29</td> <td>1990     </td>\n",
       "        </tr>\n",
       "        <tr>\n",
       "            <td>Aon Center           </td> <td>steel   </td> <td>Los Angeles</td> <td>261.52</td> <td>1974     </td>\n",
       "        </tr>\n",
       "        <tr>\n",
       "            <td>Two California Plaza </td> <td>steel   </td> <td>Los Angeles</td> <td>228.6 </td> <td>1992     </td>\n",
       "        </tr>\n",
       "        <tr>\n",
       "            <td>Gas Company Tower    </td> <td>steel   </td> <td>Los Angeles</td> <td>228.3 </td> <td>1991     </td>\n",
       "        </tr>\n",
       "        <tr>\n",
       "            <td>Bank of America Plaza</td> <td>steel   </td> <td>Los Angeles</td> <td>224.03</td> <td>1975     </td>\n",
       "        </tr>\n",
       "        <tr>\n",
       "            <td>777 Tower            </td> <td>steel   </td> <td>Los Angeles</td> <td>221   </td> <td>1991     </td>\n",
       "        </tr>\n",
       "        <tr>\n",
       "            <td>Wells Fargo Tower    </td> <td>steel   </td> <td>Los Angeles</td> <td>220.37</td> <td>1983     </td>\n",
       "        </tr>\n",
       "        <tr>\n",
       "            <td>Figueroa at Wilshire </td> <td>steel   </td> <td>Los Angeles</td> <td>218.54</td> <td>1989     </td>\n",
       "        </tr>\n",
       "        <tr>\n",
       "            <td>City National Tower  </td> <td>steel   </td> <td>Los Angeles</td> <td>213.06</td> <td>1971     </td>\n",
       "        </tr>\n",
       "        <tr>\n",
       "            <td>Paul Hastings Tower  </td> <td>steel   </td> <td>Los Angeles</td> <td>213.06</td> <td>1971     </td>\n",
       "        </tr>\n",
       "    </tbody>\n",
       "</table>\n",
       "<p>... (1 rows omitted)</p>"
      ],
      "text/plain": [
       "name                  | material | city        | height | completed\n",
       "U.S. Bank Tower       | steel    | Los Angeles | 310.29 | 1990\n",
       "Aon Center            | steel    | Los Angeles | 261.52 | 1974\n",
       "Two California Plaza  | steel    | Los Angeles | 228.6  | 1992\n",
       "Gas Company Tower     | steel    | Los Angeles | 228.3  | 1991\n",
       "Bank of America Plaza | steel    | Los Angeles | 224.03 | 1975\n",
       "777 Tower             | steel    | Los Angeles | 221    | 1991\n",
       "Wells Fargo Tower     | steel    | Los Angeles | 220.37 | 1983\n",
       "Figueroa at Wilshire  | steel    | Los Angeles | 218.54 | 1989\n",
       "City National Tower   | steel    | Los Angeles | 213.06 | 1971\n",
       "Paul Hastings Tower   | steel    | Los Angeles | 213.06 | 1971\n",
       "... (1 rows omitted)"
      ]
     },
     "execution_count": 15,
     "metadata": {},
     "output_type": "execute_result"
    }
   ],
   "source": [
    "skyscrapers.where('city', 'Los Angeles')"
   ]
  },
  {
   "cell_type": "code",
   "execution_count": 16,
   "metadata": {},
   "outputs": [
    {
     "data": {
      "text/html": [
       "<table border=\"1\" class=\"dataframe\">\n",
       "    <thead>\n",
       "        <tr>\n",
       "            <th>name</th> <th>material</th> <th>city</th> <th>height</th> <th>completed</th>\n",
       "        </tr>\n",
       "    </thead>\n",
       "    <tbody>\n",
       "        <tr>\n",
       "            <td>Empire State Building</td> <td>steel   </td> <td>New York City</td> <td>381   </td> <td>1931     </td>\n",
       "        </tr>\n",
       "    </tbody>\n",
       "</table>"
      ],
      "text/plain": [
       "name                  | material | city          | height | completed\n",
       "Empire State Building | steel    | New York City | 381    | 1931"
      ]
     },
     "execution_count": 16,
     "metadata": {},
     "output_type": "execute_result"
    }
   ],
   "source": [
    "skyscrapers.where('name', 'Empire State Building')"
   ]
  },
  {
   "cell_type": "code",
   "execution_count": 17,
   "metadata": {},
   "outputs": [
    {
     "data": {
      "text/html": [
       "<table border=\"1\" class=\"dataframe\">\n",
       "    <thead>\n",
       "        <tr>\n",
       "            <th>name</th> <th>material</th> <th>city</th> <th>height</th> <th>completed</th>\n",
       "        </tr>\n",
       "    </thead>\n",
       "    <tbody>\n",
       "        <tr>\n",
       "            <td>One World Trade Center           </td> <td>composite</td> <td>New York City</td> <td>541.3 </td> <td>2014     </td>\n",
       "        </tr>\n",
       "        <tr>\n",
       "            <td>Willis Tower                     </td> <td>steel    </td> <td>Chicago      </td> <td>442.14</td> <td>1974     </td>\n",
       "        </tr>\n",
       "        <tr>\n",
       "            <td>432 Park Avenue                  </td> <td>concrete </td> <td>New York City</td> <td>425.5 </td> <td>2015     </td>\n",
       "        </tr>\n",
       "        <tr>\n",
       "            <td>Trump International Hotel & Tower</td> <td>concrete </td> <td>Chicago      </td> <td>423.22</td> <td>2009     </td>\n",
       "        </tr>\n",
       "        <tr>\n",
       "            <td>Empire State Building            </td> <td>steel    </td> <td>New York City</td> <td>381   </td> <td>1931     </td>\n",
       "        </tr>\n",
       "        <tr>\n",
       "            <td>Bank of America Tower            </td> <td>composite</td> <td>New York City</td> <td>365.8 </td> <td>2009     </td>\n",
       "        </tr>\n",
       "        <tr>\n",
       "            <td>Stratosphere Tower               </td> <td>concrete </td> <td>Las Vegas    </td> <td>350.22</td> <td>1996     </td>\n",
       "        </tr>\n",
       "        <tr>\n",
       "            <td>Aon Center                       </td> <td>steel    </td> <td>Chicago      </td> <td>346.26</td> <td>1973     </td>\n",
       "        </tr>\n",
       "        <tr>\n",
       "            <td>John Hancock Center              </td> <td>steel    </td> <td>Chicago      </td> <td>343.69</td> <td>1969     </td>\n",
       "        </tr>\n",
       "        <tr>\n",
       "            <td>WITI TV Tower                    </td> <td>steel    </td> <td>Shorewood    </td> <td>329   </td> <td>1962     </td>\n",
       "        </tr>\n",
       "    </tbody>\n",
       "</table>\n",
       "<p>... (190 rows omitted)</p>"
      ],
      "text/plain": [
       "name                              | material  | city          | height | completed\n",
       "One World Trade Center            | composite | New York City | 541.3  | 2014\n",
       "Willis Tower                      | steel     | Chicago       | 442.14 | 1974\n",
       "432 Park Avenue                   | concrete  | New York City | 425.5  | 2015\n",
       "Trump International Hotel & Tower | concrete  | Chicago       | 423.22 | 2009\n",
       "Empire State Building             | steel     | New York City | 381    | 1931\n",
       "Bank of America Tower             | composite | New York City | 365.8  | 2009\n",
       "Stratosphere Tower                | concrete  | Las Vegas     | 350.22 | 1996\n",
       "Aon Center                        | steel     | Chicago       | 346.26 | 1973\n",
       "John Hancock Center               | steel     | Chicago       | 343.69 | 1969\n",
       "WITI TV Tower                     | steel     | Shorewood     | 329    | 1962\n",
       "... (190 rows omitted)"
      ]
     },
     "execution_count": 17,
     "metadata": {},
     "output_type": "execute_result"
    }
   ],
   "source": [
    "skyscrapers"
   ]
  },
  {
   "cell_type": "code",
   "execution_count": 20,
   "metadata": {},
   "outputs": [
    {
     "data": {
      "text/html": [
       "<table border=\"1\" class=\"dataframe\">\n",
       "    <thead>\n",
       "        <tr>\n",
       "            <th>name</th> <th>material</th> <th>city</th> <th>height</th> <th>completed</th>\n",
       "        </tr>\n",
       "    </thead>\n",
       "    <tbody>\n",
       "        <tr>\n",
       "            <td>Metropolitan Life Tower</td> <td>steel   </td> <td>New York City</td> <td>213.36</td> <td>1909     </td>\n",
       "        </tr>\n",
       "    </tbody>\n",
       "</table>"
      ],
      "text/plain": [
       "name                    | material | city          | height | completed\n",
       "Metropolitan Life Tower | steel    | New York City | 213.36 | 1909"
      ]
     },
     "execution_count": 20,
     "metadata": {},
     "output_type": "execute_result"
    }
   ],
   "source": [
    "skyscrapers.where('city', 'New York City').where('completed', 1909)\n",
    "# first step is to find all NYC skyscrapers"
   ]
  },
  {
   "cell_type": "code",
   "execution_count": 22,
   "metadata": {},
   "outputs": [
    {
     "data": {
      "text/html": [
       "<table border=\"1\" class=\"dataframe\">\n",
       "    <thead>\n",
       "        <tr>\n",
       "            <th>name</th> <th>material</th> <th>city</th> <th>height</th> <th>completed</th>\n",
       "        </tr>\n",
       "    </thead>\n",
       "    <tbody>\n",
       "        <tr>\n",
       "            <td>One World Trade Center</td> <td>composite     </td> <td>New York City</td> <td>541.3 </td> <td>2014     </td>\n",
       "        </tr>\n",
       "        <tr>\n",
       "            <td>432 Park Avenue       </td> <td>concrete      </td> <td>New York City</td> <td>425.5 </td> <td>2015     </td>\n",
       "        </tr>\n",
       "        <tr>\n",
       "            <td>Empire State Building </td> <td>steel         </td> <td>New York City</td> <td>381   </td> <td>1931     </td>\n",
       "        </tr>\n",
       "        <tr>\n",
       "            <td>Bank of America Tower </td> <td>composite     </td> <td>New York City</td> <td>365.8 </td> <td>2009     </td>\n",
       "        </tr>\n",
       "        <tr>\n",
       "            <td>Chrysler Building     </td> <td>steel         </td> <td>New York City</td> <td>318.9 </td> <td>1930     </td>\n",
       "        </tr>\n",
       "        <tr>\n",
       "            <td>New York Times Tower  </td> <td>steel         </td> <td>New York City</td> <td>318.77</td> <td>2007     </td>\n",
       "        </tr>\n",
       "        <tr>\n",
       "            <td>One57                 </td> <td>steel/concrete</td> <td>New York City</td> <td>306.07</td> <td>2014     </td>\n",
       "        </tr>\n",
       "        <tr>\n",
       "            <td>4 World Trade Center  </td> <td>composite     </td> <td>New York City</td> <td>297.73</td> <td>2014     </td>\n",
       "        </tr>\n",
       "        <tr>\n",
       "            <td>70 Pine               </td> <td>steel         </td> <td>New York City</td> <td>290.17</td> <td>1932     </td>\n",
       "        </tr>\n",
       "        <tr>\n",
       "            <td>The Trump Building    </td> <td>steel         </td> <td>New York City</td> <td>282.55</td> <td>1930     </td>\n",
       "        </tr>\n",
       "    </tbody>\n",
       "</table>\n",
       "<p>... (63 rows omitted)</p>"
      ],
      "text/plain": [
       "name                   | material       | city          | height | completed\n",
       "One World Trade Center | composite      | New York City | 541.3  | 2014\n",
       "432 Park Avenue        | concrete       | New York City | 425.5  | 2015\n",
       "Empire State Building  | steel          | New York City | 381    | 1931\n",
       "Bank of America Tower  | composite      | New York City | 365.8  | 2009\n",
       "Chrysler Building      | steel          | New York City | 318.9  | 1930\n",
       "New York Times Tower   | steel          | New York City | 318.77 | 2007\n",
       "One57                  | steel/concrete | New York City | 306.07 | 2014\n",
       "4 World Trade Center   | composite      | New York City | 297.73 | 2014\n",
       "70 Pine                | steel          | New York City | 290.17 | 1932\n",
       "The Trump Building     | steel          | New York City | 282.55 | 1930\n",
       "... (63 rows omitted)"
      ]
     },
     "execution_count": 22,
     "metadata": {},
     "output_type": "execute_result"
    }
   ],
   "source": [
    "nyc_skyscrapers = skyscrapers.where('city', 'New York City')\n",
    "nyc_skyscrapers"
   ]
  },
  {
   "cell_type": "code",
   "execution_count": 24,
   "metadata": {},
   "outputs": [
    {
     "data": {
      "text/html": [
       "<table border=\"1\" class=\"dataframe\">\n",
       "    <thead>\n",
       "        <tr>\n",
       "            <th>name</th> <th>material</th> <th>city</th> <th>height</th> <th>completed</th>\n",
       "        </tr>\n",
       "    </thead>\n",
       "    <tbody>\n",
       "        <tr>\n",
       "            <td>Metropolitan Life Tower</td> <td>steel   </td> <td>New York City</td> <td>213.36</td> <td>1909     </td>\n",
       "        </tr>\n",
       "    </tbody>\n",
       "</table>"
      ],
      "text/plain": [
       "name                    | material | city          | height | completed\n",
       "Metropolitan Life Tower | steel    | New York City | 213.36 | 1909"
      ]
     },
     "execution_count": 24,
     "metadata": {},
     "output_type": "execute_result"
    }
   ],
   "source": [
    "nyc_skyscapers_1909 = nyc_skyscrapers.where('completed', 1909)\n",
    "nyc_skyscapers_1909"
   ]
  },
  {
   "cell_type": "code",
   "execution_count": 26,
   "metadata": {},
   "outputs": [
    {
     "data": {
      "text/html": [
       "<table border=\"1\" class=\"dataframe\">\n",
       "    <thead>\n",
       "        <tr>\n",
       "            <th>name</th> <th>material</th> <th>city</th> <th>height</th> <th>completed</th>\n",
       "        </tr>\n",
       "    </thead>\n",
       "    <tbody>\n",
       "        <tr>\n",
       "            <td>Bank of America Plaza </td> <td>composite</td> <td>Atlanta</td> <td>311.8 </td> <td>1992     </td>\n",
       "        </tr>\n",
       "        <tr>\n",
       "            <td>SunTrust Plaza        </td> <td>concrete </td> <td>Atlanta</td> <td>264.25</td> <td>1992     </td>\n",
       "        </tr>\n",
       "        <tr>\n",
       "            <td>One Atlantic Center   </td> <td>composite</td> <td>Atlanta</td> <td>249.94</td> <td>1987     </td>\n",
       "        </tr>\n",
       "        <tr>\n",
       "            <td>191 Peachtree Tower   </td> <td>composite</td> <td>Atlanta</td> <td>234.7 </td> <td>1992     </td>\n",
       "        </tr>\n",
       "        <tr>\n",
       "            <td>Westin Peachtree Plaza</td> <td>concrete </td> <td>Atlanta</td> <td>220.37</td> <td>1976     </td>\n",
       "        </tr>\n",
       "        <tr>\n",
       "            <td>AT&T Building         </td> <td>concrete </td> <td>Atlanta</td> <td>206.35</td> <td>1980     </td>\n",
       "        </tr>\n",
       "        <tr>\n",
       "            <td>Sovereign             </td> <td>concrete </td> <td>Atlanta</td> <td>202.69</td> <td>2008     </td>\n",
       "        </tr>\n",
       "        <tr>\n",
       "            <td>1180 Peachtree        </td> <td>concrete </td> <td>Atlanta</td> <td>200.16</td> <td>2006     </td>\n",
       "        </tr>\n",
       "    </tbody>\n",
       "</table>"
      ],
      "text/plain": [
       "name                   | material  | city    | height | completed\n",
       "Bank of America Plaza  | composite | Atlanta | 311.8  | 1992\n",
       "SunTrust Plaza         | concrete  | Atlanta | 264.25 | 1992\n",
       "One Atlantic Center    | composite | Atlanta | 249.94 | 1987\n",
       "191 Peachtree Tower    | composite | Atlanta | 234.7  | 1992\n",
       "Westin Peachtree Plaza | concrete  | Atlanta | 220.37 | 1976\n",
       "AT&T Building          | concrete  | Atlanta | 206.35 | 1980\n",
       "Sovereign              | concrete  | Atlanta | 202.69 | 2008\n",
       "1180 Peachtree         | concrete  | Atlanta | 200.16 | 2006"
      ]
     },
     "execution_count": 26,
     "metadata": {},
     "output_type": "execute_result"
    }
   ],
   "source": [
    "skyscrapers.where('city', 'Atlanta')"
   ]
  },
  {
   "cell_type": "code",
   "execution_count": 27,
   "metadata": {},
   "outputs": [
    {
     "data": {
      "text/html": [
       "<table border=\"1\" class=\"dataframe\">\n",
       "    <thead>\n",
       "        <tr>\n",
       "            <th>name</th> <th>material</th> <th>city</th> <th>height</th> <th>completed</th>\n",
       "        </tr>\n",
       "    </thead>\n",
       "    <tbody>\n",
       "        <tr>\n",
       "            <td>Metropolitan Life Tower</td> <td>steel   </td> <td>New York City</td> <td>213.36</td> <td>1909     </td>\n",
       "        </tr>\n",
       "        <tr>\n",
       "            <td>Woolworth Building     </td> <td>steel   </td> <td>New York City</td> <td>241.4 </td> <td>1913     </td>\n",
       "        </tr>\n",
       "        <tr>\n",
       "            <td>Terminal Tower         </td> <td>steel   </td> <td>Cleveland    </td> <td>215.8 </td> <td>1928     </td>\n",
       "        </tr>\n",
       "        <tr>\n",
       "            <td>Chanin Building        </td> <td>steel   </td> <td>New York City</td> <td>197.8 </td> <td>1929     </td>\n",
       "        </tr>\n",
       "        <tr>\n",
       "            <td>Mercantile Building    </td> <td>steel   </td> <td>New York City</td> <td>192.6 </td> <td>1929     </td>\n",
       "        </tr>\n",
       "        <tr>\n",
       "            <td>Chrysler Building      </td> <td>steel   </td> <td>New York City</td> <td>318.9 </td> <td>1930     </td>\n",
       "        </tr>\n",
       "        <tr>\n",
       "            <td>The Trump Building     </td> <td>steel   </td> <td>New York City</td> <td>282.55</td> <td>1930     </td>\n",
       "        </tr>\n",
       "        <tr>\n",
       "            <td>One Grand Central Place</td> <td>steel   </td> <td>New York City</td> <td>205.13</td> <td>1930     </td>\n",
       "        </tr>\n",
       "        <tr>\n",
       "            <td>Empire State Building  </td> <td>steel   </td> <td>New York City</td> <td>381   </td> <td>1931     </td>\n",
       "        </tr>\n",
       "        <tr>\n",
       "            <td>Twenty Exchange        </td> <td>steel   </td> <td>New York City</td> <td>225.86</td> <td>1931     </td>\n",
       "        </tr>\n",
       "    </tbody>\n",
       "</table>\n",
       "<p>... (190 rows omitted)</p>"
      ],
      "text/plain": [
       "name                    | material | city          | height | completed\n",
       "Metropolitan Life Tower | steel    | New York City | 213.36 | 1909\n",
       "Woolworth Building      | steel    | New York City | 241.4  | 1913\n",
       "Terminal Tower          | steel    | Cleveland     | 215.8  | 1928\n",
       "Chanin Building         | steel    | New York City | 197.8  | 1929\n",
       "Mercantile Building     | steel    | New York City | 192.6  | 1929\n",
       "Chrysler Building       | steel    | New York City | 318.9  | 1930\n",
       "The Trump Building      | steel    | New York City | 282.55 | 1930\n",
       "One Grand Central Place | steel    | New York City | 205.13 | 1930\n",
       "Empire State Building   | steel    | New York City | 381    | 1931\n",
       "Twenty Exchange         | steel    | New York City | 225.86 | 1931\n",
       "... (190 rows omitted)"
      ]
     },
     "execution_count": 27,
     "metadata": {},
     "output_type": "execute_result"
    }
   ],
   "source": [
    "skyscrapers.sort('completed') # smallest to largest, ascending"
   ]
  },
  {
   "cell_type": "code",
   "execution_count": 28,
   "metadata": {},
   "outputs": [
    {
     "data": {
      "text/html": [
       "<table border=\"1\" class=\"dataframe\">\n",
       "    <thead>\n",
       "        <tr>\n",
       "            <th>name</th> <th>material</th> <th>city</th> <th>height</th> <th>completed</th>\n",
       "        </tr>\n",
       "    </thead>\n",
       "    <tbody>\n",
       "        <tr>\n",
       "            <td>432 Park Avenue                                 </td> <td>concrete      </td> <td>New York City    </td> <td>425.5 </td> <td>2015     </td>\n",
       "        </tr>\n",
       "        <tr>\n",
       "            <td>Sky                                             </td> <td>concrete      </td> <td>New York City    </td> <td>206   </td> <td>2015     </td>\n",
       "        </tr>\n",
       "        <tr>\n",
       "            <td>Mansions at Acqualina                           </td> <td>concrete      </td> <td>Sunny Isles Beach</td> <td>196   </td> <td>2015     </td>\n",
       "        </tr>\n",
       "        <tr>\n",
       "            <td>One World Trade Center                          </td> <td>composite     </td> <td>New York City    </td> <td>541.3 </td> <td>2014     </td>\n",
       "        </tr>\n",
       "        <tr>\n",
       "            <td>One57                                           </td> <td>steel/concrete</td> <td>New York City    </td> <td>306.07</td> <td>2014     </td>\n",
       "        </tr>\n",
       "        <tr>\n",
       "            <td>4 World Trade Center                            </td> <td>composite     </td> <td>New York City    </td> <td>297.73</td> <td>2014     </td>\n",
       "        </tr>\n",
       "        <tr>\n",
       "            <td>Courtyard & Residence Inn Manhattan/Central Park</td> <td>concrete      </td> <td>New York City    </td> <td>229.62</td> <td>2013     </td>\n",
       "        </tr>\n",
       "        <tr>\n",
       "            <td>Devon Energy Center                             </td> <td>concrete      </td> <td>Oklahoma City    </td> <td>257.23</td> <td>2012     </td>\n",
       "        </tr>\n",
       "        <tr>\n",
       "            <td>Revel Resort and Casino                         </td> <td>concrete      </td> <td>Atlantic City    </td> <td>218.92</td> <td>2012     </td>\n",
       "        </tr>\n",
       "        <tr>\n",
       "            <td>Eight Spruce Street                             </td> <td>concrete      </td> <td>New York City    </td> <td>265.18</td> <td>2011     </td>\n",
       "        </tr>\n",
       "    </tbody>\n",
       "</table>\n",
       "<p>... (190 rows omitted)</p>"
      ],
      "text/plain": [
       "name                                             | material       | city              | height | completed\n",
       "432 Park Avenue                                  | concrete       | New York City     | 425.5  | 2015\n",
       "Sky                                              | concrete       | New York City     | 206    | 2015\n",
       "Mansions at Acqualina                            | concrete       | Sunny Isles Beach | 196    | 2015\n",
       "One World Trade Center                           | composite      | New York City     | 541.3  | 2014\n",
       "One57                                            | steel/concrete | New York City     | 306.07 | 2014\n",
       "4 World Trade Center                             | composite      | New York City     | 297.73 | 2014\n",
       "Courtyard & Residence Inn Manhattan/Central Park | concrete       | New York City     | 229.62 | 2013\n",
       "Devon Energy Center                              | concrete       | Oklahoma City     | 257.23 | 2012\n",
       "Revel Resort and Casino                          | concrete       | Atlantic City     | 218.92 | 2012\n",
       "Eight Spruce Street                              | concrete       | New York City     | 265.18 | 2011\n",
       "... (190 rows omitted)"
      ]
     },
     "execution_count": 28,
     "metadata": {},
     "output_type": "execute_result"
    }
   ],
   "source": [
    "skyscrapers.sort('completed', descending = True) # largest to smallest, descending"
   ]
  },
  {
   "cell_type": "code",
   "execution_count": null,
   "metadata": {},
   "outputs": [],
   "source": [
    "# can you find the newest skyscraper in New York City?\n",
    "\n",
    "\n",
    "\n",
    "\n"
   ]
  },
  {
   "cell_type": "code",
   "execution_count": 35,
   "metadata": {},
   "outputs": [
    {
     "data": {
      "text/html": [
       "<table border=\"1\" class=\"dataframe\">\n",
       "    <thead>\n",
       "        <tr>\n",
       "            <th>name</th> <th>material</th> <th>city</th> <th>height</th> <th>completed</th>\n",
       "        </tr>\n",
       "    </thead>\n",
       "    <tbody>\n",
       "        <tr>\n",
       "            <td>Willis Tower                     </td> <td>steel         </td> <td>Chicago</td> <td>442.14</td> <td>1974     </td>\n",
       "        </tr>\n",
       "        <tr>\n",
       "            <td>Trump International Hotel & Tower</td> <td>concrete      </td> <td>Chicago</td> <td>423.22</td> <td>2009     </td>\n",
       "        </tr>\n",
       "        <tr>\n",
       "            <td>Aon Center                       </td> <td>steel         </td> <td>Chicago</td> <td>346.26</td> <td>1973     </td>\n",
       "        </tr>\n",
       "        <tr>\n",
       "            <td>John Hancock Center              </td> <td>steel         </td> <td>Chicago</td> <td>343.69</td> <td>1969     </td>\n",
       "        </tr>\n",
       "        <tr>\n",
       "            <td>The Franklin - North Tower       </td> <td>composite     </td> <td>Chicago</td> <td>306.94</td> <td>1989     </td>\n",
       "        </tr>\n",
       "        <tr>\n",
       "            <td>Two Prudential Plaza             </td> <td>concrete      </td> <td>Chicago</td> <td>303.28</td> <td>1990     </td>\n",
       "        </tr>\n",
       "        <tr>\n",
       "            <td>311 South Wacker Drive           </td> <td>concrete      </td> <td>Chicago</td> <td>292.92</td> <td>1990     </td>\n",
       "        </tr>\n",
       "        <tr>\n",
       "            <td>900 North Michigan Avenue        </td> <td>concrete/steel</td> <td>Chicago</td> <td>265   </td> <td>1989     </td>\n",
       "        </tr>\n",
       "        <tr>\n",
       "            <td>Water Tower Place                </td> <td>concrete      </td> <td>Chicago</td> <td>261.88</td> <td>1976     </td>\n",
       "        </tr>\n",
       "        <tr>\n",
       "            <td>Aqua                             </td> <td>concrete      </td> <td>Chicago</td> <td>261.75</td> <td>2009     </td>\n",
       "        </tr>\n",
       "    </tbody>\n",
       "</table>\n",
       "<p>... (26 rows omitted)</p>"
      ],
      "text/plain": [
       "name                              | material       | city    | height | completed\n",
       "Willis Tower                      | steel          | Chicago | 442.14 | 1974\n",
       "Trump International Hotel & Tower | concrete       | Chicago | 423.22 | 2009\n",
       "Aon Center                        | steel          | Chicago | 346.26 | 1973\n",
       "John Hancock Center               | steel          | Chicago | 343.69 | 1969\n",
       "The Franklin - North Tower        | composite      | Chicago | 306.94 | 1989\n",
       "Two Prudential Plaza              | concrete       | Chicago | 303.28 | 1990\n",
       "311 South Wacker Drive            | concrete       | Chicago | 292.92 | 1990\n",
       "900 North Michigan Avenue         | concrete/steel | Chicago | 265    | 1989\n",
       "Water Tower Place                 | concrete       | Chicago | 261.88 | 1976\n",
       "Aqua                              | concrete       | Chicago | 261.75 | 2009\n",
       "... (26 rows omitted)"
      ]
     },
     "execution_count": 35,
     "metadata": {},
     "output_type": "execute_result"
    }
   ],
   "source": [
    "chicago = skyscrapers.where('city', 'Chicago')\n",
    "chicago"
   ]
  },
  {
   "cell_type": "code",
   "execution_count": 41,
   "metadata": {},
   "outputs": [
    {
     "data": {
      "text/html": [
       "<table border=\"1\" class=\"dataframe\">\n",
       "    <thead>\n",
       "        <tr>\n",
       "            <th>name</th> <th>material</th> <th>city</th> <th>height</th> <th>completed</th>\n",
       "        </tr>\n",
       "    </thead>\n",
       "    <tbody>\n",
       "        <tr>\n",
       "            <td>The Franklin - North Tower       </td> <td>composite     </td> <td>Chicago</td> <td>306.94</td> <td>1989     </td>\n",
       "        </tr>\n",
       "        <tr>\n",
       "            <td>300 North LaSalle                </td> <td>composite     </td> <td>Chicago</td> <td>239.12</td> <td>2009     </td>\n",
       "        </tr>\n",
       "        <tr>\n",
       "            <td>Three First National Plaza       </td> <td>composite     </td> <td>Chicago</td> <td>233.65</td> <td>1981     </td>\n",
       "        </tr>\n",
       "        <tr>\n",
       "            <td>Chicago Title & Trust Center     </td> <td>composite     </td> <td>Chicago</td> <td>230.48</td> <td>1992     </td>\n",
       "        </tr>\n",
       "        <tr>\n",
       "            <td>Blue Cross-Blue Shield Tower     </td> <td>composite     </td> <td>Chicago</td> <td>226.72</td> <td>2010     </td>\n",
       "        </tr>\n",
       "        <tr>\n",
       "            <td>AMA Plaza                        </td> <td>composite     </td> <td>Chicago</td> <td>211.84</td> <td>1972     </td>\n",
       "        </tr>\n",
       "        <tr>\n",
       "            <td>111 South Wacker                 </td> <td>composite     </td> <td>Chicago</td> <td>207.64</td> <td>2005     </td>\n",
       "        </tr>\n",
       "        <tr>\n",
       "            <td>181 West Madison                 </td> <td>composite     </td> <td>Chicago</td> <td>207.27</td> <td>1990     </td>\n",
       "        </tr>\n",
       "        <tr>\n",
       "            <td>Hyatt Center                     </td> <td>composite     </td> <td>Chicago</td> <td>207.1 </td> <td>2005     </td>\n",
       "        </tr>\n",
       "        <tr>\n",
       "            <td>United Building                  </td> <td>composite     </td> <td>Chicago</td> <td>203.61</td> <td>1992     </td>\n",
       "        </tr>\n",
       "        <tr>\n",
       "            <td>UBS Tower                        </td> <td>composite     </td> <td>Chicago</td> <td>198.58</td> <td>2001     </td>\n",
       "        </tr>\n",
       "        <tr>\n",
       "            <td>155 North Wacker                 </td> <td>composite     </td> <td>Chicago</td> <td>194.57</td> <td>2009     </td>\n",
       "        </tr>\n",
       "        <tr>\n",
       "            <td>Leo Burnett Building             </td> <td>composite     </td> <td>Chicago</td> <td>193.55</td> <td>1989     </td>\n",
       "        </tr>\n",
       "        <tr>\n",
       "            <td>Trump International Hotel & Tower</td> <td>concrete      </td> <td>Chicago</td> <td>423.22</td> <td>2009     </td>\n",
       "        </tr>\n",
       "        <tr>\n",
       "            <td>Two Prudential Plaza             </td> <td>concrete      </td> <td>Chicago</td> <td>303.28</td> <td>1990     </td>\n",
       "        </tr>\n",
       "        <tr>\n",
       "            <td>311 South Wacker Drive           </td> <td>concrete      </td> <td>Chicago</td> <td>292.92</td> <td>1990     </td>\n",
       "        </tr>\n",
       "        <tr>\n",
       "            <td>Water Tower Place                </td> <td>concrete      </td> <td>Chicago</td> <td>261.88</td> <td>1976     </td>\n",
       "        </tr>\n",
       "        <tr>\n",
       "            <td>Aqua                             </td> <td>concrete      </td> <td>Chicago</td> <td>261.75</td> <td>2009     </td>\n",
       "        </tr>\n",
       "        <tr>\n",
       "            <td>Park Tower                       </td> <td>concrete      </td> <td>Chicago</td> <td>257.35</td> <td>2000     </td>\n",
       "        </tr>\n",
       "        <tr>\n",
       "            <td>The Legacy at Millennium Park    </td> <td>concrete      </td> <td>Chicago</td> <td>249.33</td> <td>2010     </td>\n",
       "        </tr>\n",
       "        <tr>\n",
       "            <td>Olympia Centre                   </td> <td>concrete      </td> <td>Chicago</td> <td>222.9 </td> <td>1986     </td>\n",
       "        </tr>\n",
       "        <tr>\n",
       "            <td>One Museum Park                  </td> <td>concrete      </td> <td>Chicago</td> <td>221.34</td> <td>2009     </td>\n",
       "        </tr>\n",
       "        <tr>\n",
       "            <td>Waldorf Astoria Chicago          </td> <td>concrete      </td> <td>Chicago</td> <td>209   </td> <td>2009     </td>\n",
       "        </tr>\n",
       "        <tr>\n",
       "            <td>One Magnificent Mile             </td> <td>concrete      </td> <td>Chicago</td> <td>205.13</td> <td>1983     </td>\n",
       "        </tr>\n",
       "        <tr>\n",
       "            <td>340 on the Park                  </td> <td>concrete      </td> <td>Chicago</td> <td>204.9 </td> <td>2007     </td>\n",
       "        </tr>\n",
       "        <tr>\n",
       "            <td>55 East Erie                     </td> <td>concrete      </td> <td>Chicago</td> <td>197.15</td> <td>2004     </td>\n",
       "        </tr>\n",
       "        <tr>\n",
       "            <td>Lake Point Tower                 </td> <td>concrete      </td> <td>Chicago</td> <td>196.45</td> <td>1968     </td>\n",
       "        </tr>\n",
       "        <tr>\n",
       "            <td>River East Center                </td> <td>concrete      </td> <td>Chicago</td> <td>196.29</td> <td>2001     </td>\n",
       "        </tr>\n",
       "        <tr>\n",
       "            <td>Grand Plaza Apartments           </td> <td>concrete      </td> <td>Chicago</td> <td>195.38</td> <td>2003     </td>\n",
       "        </tr>\n",
       "        <tr>\n",
       "            <td>The Heritage at Millennium Park  </td> <td>concrete      </td> <td>Chicago</td> <td>192.38</td> <td>2005     </td>\n",
       "        </tr>\n",
       "        <tr>\n",
       "            <td>900 North Michigan Avenue        </td> <td>concrete/steel</td> <td>Chicago</td> <td>265   </td> <td>1989     </td>\n",
       "        </tr>\n",
       "        <tr>\n",
       "            <td>Willis Tower                     </td> <td>steel         </td> <td>Chicago</td> <td>442.14</td> <td>1974     </td>\n",
       "        </tr>\n",
       "        <tr>\n",
       "            <td>Aon Center                       </td> <td>steel         </td> <td>Chicago</td> <td>346.26</td> <td>1973     </td>\n",
       "        </tr>\n",
       "        <tr>\n",
       "            <td>John Hancock Center              </td> <td>steel         </td> <td>Chicago</td> <td>343.69</td> <td>1969     </td>\n",
       "        </tr>\n",
       "        <tr>\n",
       "            <td>Chase Tower                      </td> <td>steel         </td> <td>Chicago</td> <td>259.08</td> <td>1969     </td>\n",
       "        </tr>\n",
       "        <tr>\n",
       "            <td>Richard J. Daley Center          </td> <td>steel         </td> <td>Chicago</td> <td>197.51</td> <td>1965     </td>\n",
       "        </tr>\n",
       "    </tbody>\n",
       "</table>"
      ],
      "text/plain": [
       "<IPython.core.display.HTML object>"
      ]
     },
     "metadata": {},
     "output_type": "display_data"
    }
   ],
   "source": [
    "# can you find the most common material used for Chicago skyscrapers?\n",
    "\n",
    "#concrete_chicago = chicago.where('material', 'concrete')\n",
    "\n",
    "#concrete_chicago.num_rows\n",
    "\n",
    "chicago.sort('material').show()"
   ]
  },
  {
   "cell_type": "code",
   "execution_count": 42,
   "metadata": {},
   "outputs": [
    {
     "data": {
      "text/html": [
       "<table border=\"1\" class=\"dataframe\">\n",
       "    <thead>\n",
       "        <tr>\n",
       "            <th>name</th> <th>material</th> <th>height</th> <th>completed</th>\n",
       "        </tr>\n",
       "    </thead>\n",
       "    <tbody>\n",
       "        <tr>\n",
       "            <td>Willis Tower                     </td> <td>steel         </td> <td>442.14</td> <td>1974     </td>\n",
       "        </tr>\n",
       "        <tr>\n",
       "            <td>Trump International Hotel & Tower</td> <td>concrete      </td> <td>423.22</td> <td>2009     </td>\n",
       "        </tr>\n",
       "        <tr>\n",
       "            <td>Aon Center                       </td> <td>steel         </td> <td>346.26</td> <td>1973     </td>\n",
       "        </tr>\n",
       "        <tr>\n",
       "            <td>John Hancock Center              </td> <td>steel         </td> <td>343.69</td> <td>1969     </td>\n",
       "        </tr>\n",
       "        <tr>\n",
       "            <td>The Franklin - North Tower       </td> <td>composite     </td> <td>306.94</td> <td>1989     </td>\n",
       "        </tr>\n",
       "        <tr>\n",
       "            <td>Two Prudential Plaza             </td> <td>concrete      </td> <td>303.28</td> <td>1990     </td>\n",
       "        </tr>\n",
       "        <tr>\n",
       "            <td>311 South Wacker Drive           </td> <td>concrete      </td> <td>292.92</td> <td>1990     </td>\n",
       "        </tr>\n",
       "        <tr>\n",
       "            <td>900 North Michigan Avenue        </td> <td>concrete/steel</td> <td>265   </td> <td>1989     </td>\n",
       "        </tr>\n",
       "        <tr>\n",
       "            <td>Water Tower Place                </td> <td>concrete      </td> <td>261.88</td> <td>1976     </td>\n",
       "        </tr>\n",
       "        <tr>\n",
       "            <td>Aqua                             </td> <td>concrete      </td> <td>261.75</td> <td>2009     </td>\n",
       "        </tr>\n",
       "    </tbody>\n",
       "</table>\n",
       "<p>... (26 rows omitted)</p>"
      ],
      "text/plain": [
       "name                              | material       | height | completed\n",
       "Willis Tower                      | steel          | 442.14 | 1974\n",
       "Trump International Hotel & Tower | concrete       | 423.22 | 2009\n",
       "Aon Center                        | steel          | 346.26 | 1973\n",
       "John Hancock Center               | steel          | 343.69 | 1969\n",
       "The Franklin - North Tower        | composite      | 306.94 | 1989\n",
       "Two Prudential Plaza              | concrete       | 303.28 | 1990\n",
       "311 South Wacker Drive            | concrete       | 292.92 | 1990\n",
       "900 North Michigan Avenue         | concrete/steel | 265    | 1989\n",
       "Water Tower Place                 | concrete       | 261.88 | 1976\n",
       "Aqua                              | concrete       | 261.75 | 2009\n",
       "... (26 rows omitted)"
      ]
     },
     "execution_count": 42,
     "metadata": {},
     "output_type": "execute_result"
    }
   ],
   "source": [
    "chicago = chicago.drop('city')\n",
    "chicago"
   ]
  },
  {
   "cell_type": "code",
   "execution_count": 43,
   "metadata": {},
   "outputs": [
    {
     "data": {
      "text/html": [
       "<table border=\"1\" class=\"dataframe\">\n",
       "    <thead>\n",
       "        <tr>\n",
       "            <th>name</th> <th>material</th> <th>height</th> <th>completed</th>\n",
       "        </tr>\n",
       "    </thead>\n",
       "    <tbody>\n",
       "        <tr>\n",
       "            <td>Willis Tower           </td> <td>steel   </td> <td>442.14</td> <td>1974     </td>\n",
       "        </tr>\n",
       "        <tr>\n",
       "            <td>Aon Center             </td> <td>steel   </td> <td>346.26</td> <td>1973     </td>\n",
       "        </tr>\n",
       "        <tr>\n",
       "            <td>John Hancock Center    </td> <td>steel   </td> <td>343.69</td> <td>1969     </td>\n",
       "        </tr>\n",
       "        <tr>\n",
       "            <td>Chase Tower            </td> <td>steel   </td> <td>259.08</td> <td>1969     </td>\n",
       "        </tr>\n",
       "        <tr>\n",
       "            <td>Richard J. Daley Center</td> <td>steel   </td> <td>197.51</td> <td>1965     </td>\n",
       "        </tr>\n",
       "    </tbody>\n",
       "</table>"
      ],
      "text/plain": [
       "name                    | material | height | completed\n",
       "Willis Tower            | steel    | 442.14 | 1974\n",
       "Aon Center              | steel    | 346.26 | 1973\n",
       "John Hancock Center     | steel    | 343.69 | 1969\n",
       "Chase Tower             | steel    | 259.08 | 1969\n",
       "Richard J. Daley Center | steel    | 197.51 | 1965"
      ]
     },
     "execution_count": 43,
     "metadata": {},
     "output_type": "execute_result"
    }
   ],
   "source": [
    "chicago.where('material', 'steel').sort('completed', descending=True)"
   ]
  },
  {
   "cell_type": "markdown",
   "metadata": {},
   "source": [
    "## Numbers ##"
   ]
  },
  {
   "cell_type": "code",
   "execution_count": 44,
   "metadata": {},
   "outputs": [
    {
     "data": {
      "text/plain": [
       "20"
      ]
     },
     "execution_count": 44,
     "metadata": {},
     "output_type": "execute_result"
    }
   ],
   "source": [
    "4 * 5 "
   ]
  },
  {
   "cell_type": "code",
   "execution_count": 45,
   "metadata": {},
   "outputs": [
    {
     "data": {
      "text/plain": [
       "0.8"
      ]
     },
     "execution_count": 45,
     "metadata": {},
     "output_type": "execute_result"
    }
   ],
   "source": [
    "4/5"
   ]
  },
  {
   "cell_type": "code",
   "execution_count": 46,
   "metadata": {},
   "outputs": [
    {
     "data": {
      "text/plain": [
       "int"
      ]
     },
     "execution_count": 46,
     "metadata": {},
     "output_type": "execute_result"
    }
   ],
   "source": [
    "type(20)  # int"
   ]
  },
  {
   "cell_type": "code",
   "execution_count": 47,
   "metadata": {},
   "outputs": [
    {
     "data": {
      "text/plain": [
       "6.666666666666667"
      ]
     },
     "execution_count": 47,
     "metadata": {},
     "output_type": "execute_result"
    }
   ],
   "source": [
    "20 / 3  # float"
   ]
  },
  {
   "cell_type": "code",
   "execution_count": 48,
   "metadata": {},
   "outputs": [
    {
     "data": {
      "text/plain": [
       "float"
      ]
     },
     "execution_count": 48,
     "metadata": {},
     "output_type": "execute_result"
    }
   ],
   "source": [
    "type(20 / 3 ) # float"
   ]
  },
  {
   "cell_type": "code",
   "execution_count": 49,
   "metadata": {},
   "outputs": [
    {
     "data": {
      "text/plain": [
       "2861381721051424"
      ]
     },
     "execution_count": 49,
     "metadata": {},
     "output_type": "execute_result"
    }
   ],
   "source": [
    "1234 ** 5 #let's raise 1234 to the 5th power"
   ]
  },
  {
   "cell_type": "code",
   "execution_count": 50,
   "metadata": {
    "scrolled": false
   },
   "outputs": [
    {
     "data": {
      "text/plain": [
       "8501231189087579600089751361553790268770349244703297428875589625722666467029941104939346554618071090198338783086373718576302438541333303880149260355204961854660219348723703108817202816413695269234965947705916615090621461642947014634336709271250452147953400166273260278848909785635002746194627726905574383510586443855838501016194842546617466128367893005423946615632150875808229800489923121719324872322046242350358131209328011811786949525196068003065158218919856058009730366652388266762742312727811381080096679122681705212621121694449552467004319038040278415300031865815686537893832036302381576784433617023034776696420714876144485434646470579451349932122786555312581410798435527766468171805917233861943182867785949421920388024490545080852578054799518628169776648400272207657901368826628263954152902385783150069479202174698194137926647193941464878985158866033603990897827957922316614328503432155899763729601975377581454913801778657241584312797743187104615112990826170240576951377437889267043522178249238593031641469549941494342759976108330779190218175412454748751926927383394413538931340595895207489380533100158406056151193717830291989516050792698599824001271625788286400083430435996225870286728426044234538211907415368581834395718465999600878488008607312853910299621718948349669855888836854252419288825696064212121647849551877875083738702829751411930599999622761621401447136127241509252032463327323070454207230975720060696828143799024367860147672207189531148445363579822690090247426809033888593346224400489864273919166242548023881535680191207682155376847968733347385604276041283073347228803815405279998112938547949111103674653832147687792102357868703111192396677366147456000088224345337686711034275719530447049014275259015225178167345787860419429746163578689112295374153342313643102860000043435063407095232225814912427371973655639573401225553397831763058803538321076134083815415808878801086989396808453086722759516791817007120094624007835769308392692512292076325216213400980105527561077936336304777689856279268528402220160062365065232332591377102473934204006130311988805188979219655541468478726919818964117814118792374862057769846985070125485535437404289927188615185691222316241621215766939710853896856813203062169027816260494177289049365381215927091498601917056060292413725363696411243333025412074745992523902361942775529526536373496738092824403787110436969853611291705542181465577860684356486366860656165512948151524933949786531146417170299635082603757569302823079309642165775339529350073334016536451546540101287343407519182886572705773752090361182764058820258039372684336875330193457187912610800811194846692844413250373790522436208281266107102797113360495590669276174666003140785418373792534074610572841949732698528501261527844158885908948457093379372805804839434654279671107358129161157542389885838451898730060682856993779392841932975136525458784109035840416983298605830506319573271130742050796746857088239476285125701191400037072451731684223974010566859507243715790643657351235859756336513849858202588873634540023879638374295951524136236923423671632288707799796254804534131404379431231204837024857385154005913719311686092928666434917434354477753061030585428817582406313947343323157529985612660681069043858038046579763847037562570547171440108195495366373958169243521224322956620783733349921065284787807945332261864322729817303151806498733348746037759221592204992833243474043011524957764893686560384098274570957300202261186252832958713676112057045040733644861358757896798944561785532803162367117322209902786366770185404104429801771112839955437055146806182689958073760306881639356780211743597322337707273020574672167834903012765163624007144211187468411542572963939660561108419475949395174963273413868852896440947424344992179718533116562699371740484706235433706366240569083524185430700469547308694857964159760700105671073001697330585529109121954741220576828524401723676757794795250083720950267587758171582501191501189637061958522207031367402612571734076441860674863814099909712130609708832863842680889265436019725367744101582454551569091979679402651954509598343981143344994024597129576527297449562174131960128341530909092632992001197144131236990528338873298678869553075209034043170992884449709029653566942008795413009270598751643823365272644494325074303521000550383539517161018722764697822086046405563680718131405792201823465582572438557456336286618410630318761812534387255321583672541646660962378801475251590166471466595258572158876046780792443577415200699819116816418271779150023325969827619668356385379492002839104719856567779948453993844186649714112183836256341312617615482430806958408238575908083762936896619234237776772177583159411023017504636095926857331555009746884320121739186130195270017824024543589427772233432983995687775589752856045849787752136728977672421047044616632815386399888296637700670466401959263236561582055778310157915470795145143796474746725370125947980275952922826108308467662042757684610567756146778339591309122209612268095258943366473761985897845055573273671724348548111948847379270386151942239409617923808520510216097802516678970040346980188629443715890930465463804492890211575470612830497028489147272192585685947796464545671963309049439258226873022205625709886668321373234244538080578360227498200648921276375417069081994650310855296691342660962147412307971339042024827405215076215739687361592800757818100677910903440952002286261610473948573453158231294083861144427334581930023810856063221538294930635014609130296973666667250400981564887676855397430415734620826642403239301737465365417336571401497355640018224265552528893856056521264468754259331309642279938999221903924272554971643852022011765947996212275421355829319833800328694415760470248441144112841871615527949567756625459528865177363760130737703504794132062456639099091337141843043572787978733434533767453243181864529530929934401760870432704557779849641423060741199004298604891642184264851178483341038511090722342118873498635737236513496645110435204599001192882345052148291893842746068818312240423860644772035686748207737937330731621572971700220581785018809135077118524157304642073960556985963276791286503519409401480367890088946361913781598819528053807824965631154067173643125103000019765896220170024014812342911173525749157697106521016854161257203523551539146282300370830977932461995240936491993635236903476374429789840395960375345964220770757740813788095016860025483170158351625008006789547501818953994047994918103675713213055967165384541604370431719729029540602763131661822887630690333465610033516515270697981295995776262959098948330585272660656116144967043969319660080776468003023689115985109243276062032314681910559853467564899656051147313316756842800810181868551222821480948679861163616172872803379733777573623808254369599685925204412819323875134478075963684161339050209936379061691033728923807475379415465383025557131060414658886176518426741514818489971200170225002785660981724657558948045769491628137308892224722090788609018498931641698349882126634530850124893008580057089031262692083463530715246539201336162343861003837177762709976164318071419708304774305664605227779130500290518760514487016040637183163730234198931327443230999593434886642032992814007487335032806974334314990662466625794888753011718986752189306642732138825853045557198359478493270993059784423790507239915335903398454260951414810668775167179806613918334466769567939609524474423632422141023039679879483408186345079632030424648847689809026711978081947903438392563709001125646893456021779329424424779391528111421469044606843018300876897395445253306890783761645221940056043388634123454588562306648298749455465977490994025174143753890716103766476979322281404578206477815990052749373250814491832851401070336784979513392325916209262885168692951437735907647072682733715902663075844281947906218641163705685395625799623292587670381081867593848818401532773950884647720702232756097645658920981343899421959357485709585505642079957307512728772215176970128993781357535088567880197542751827341139496635440210208317403228610798745224471360337944308550142133138286140336310210850089257101302693168879798276317068290928736257745653176186634263625371050768240096814085244914326618850585890836001384575901572218127873576262084578014910630523386001475565908224331383474802859023718719809018774147780237944047759978503648153192059539387669322736137970901270986925571309053202739919849451419989108352494436091493296836597733009962614962179159515434257716856173580148874002318298867398237987853860624691033672798285297799458631626290930743534995014732949479703154773215759707098072956386620819003127062648282710469678832752591863293231815729342871660619327557813453247774415659664487688398388095064059490423294993680724278374893719707121254981307094206136913986007896643600161482658832611193920247780934685992417914322966559683642055990954449127160573199392785726754635905855890063412382560973517981021050866306970467833416093939036735381065118352779372161346180266532169488697592826225229385373913274120218966809788862391276736910500922056220340985502760020115819638073740142247532804189017916769440211768994106186308752573719640071345233546773059430518424802367019060759411971955555783765928607321193807028182756584732165717947363836080443779104166099782053802892628426215105575437380575443970807930406429163847227208533516658172008981465870536417992534247869119054571725907031834192238976492462505188434925894284571802135891728461342192904519589748852378897993698002054987272239157980707384539293328406316786051257031276357363596121261371194514622932562625671032070170342014101299531464179007267091513529777800064039808987054298298686823438306885272747323730018071591283348858301520324446652833200656025652139439018968767445890277163242883795493226841395882873453066890758393808352377348137064155139165313796843738357495546901771274019801674136096948056418764420940226231277775442295382059919190325369174324707812524303352519068027684868978718371087463218055693256066300632651127553795883044234715579987402265384978881813429005659612240390356325241"
      ]
     },
     "execution_count": 50,
     "metadata": {},
     "output_type": "execute_result"
    }
   ],
   "source": [
    "123456789 ** 1234"
   ]
  },
  {
   "cell_type": "code",
   "execution_count": 51,
   "metadata": {},
   "outputs": [
    {
     "data": {
      "text/plain": [
       "0.005714285714285714"
      ]
     },
     "execution_count": 51,
     "metadata": {},
     "output_type": "execute_result"
    }
   ],
   "source": [
    "4 / 700 # what happens when we divide an int with an int?\n",
    "\n",
    "# we get a float!"
   ]
  },
  {
   "cell_type": "code",
   "execution_count": 52,
   "metadata": {
    "scrolled": true
   },
   "outputs": [
    {
     "data": {
      "text/plain": [
       "5.714285714285714e-18"
      ]
     },
     "execution_count": 52,
     "metadata": {},
     "output_type": "execute_result"
    }
   ],
   "source": [
    "4 / 700000000000000000 # floats can represent very small numbers\n",
    "# using scientific notation\n",
    "\n",
    "# 5.714285714285714 * 10^-18\n",
    "# 0.000000000000000005714285714285714\n",
    "# a number pretty much equal to 0"
   ]
  },
  {
   "cell_type": "code",
   "execution_count": 53,
   "metadata": {},
   "outputs": [
    {
     "data": {
      "text/plain": [
       "0.12345678901234568"
      ]
     },
     "execution_count": 53,
     "metadata": {},
     "output_type": "execute_result"
    }
   ],
   "source": [
    "0.12345678901234567890123456789\n",
    "\n",
    "# is what is printed to the screen below, \n",
    "# the same as what we typed?\n",
    "# floats capture up to 17 decimal places, rounded up"
   ]
  },
  {
   "cell_type": "code",
   "execution_count": 54,
   "metadata": {},
   "outputs": [
    {
     "data": {
      "text/plain": [
       "0.0"
      ]
     },
     "execution_count": 54,
     "metadata": {},
     "output_type": "execute_result"
    }
   ],
   "source": [
    "0.12345678901234567890123456789 - 0.1234567890123456789"
   ]
  },
  {
   "cell_type": "code",
   "execution_count": 55,
   "metadata": {},
   "outputs": [
    {
     "data": {
      "text/plain": [
       "3.1622776601683795"
      ]
     },
     "execution_count": 55,
     "metadata": {},
     "output_type": "execute_result"
    }
   ],
   "source": [
    "10 ** 0.5 # square root"
   ]
  },
  {
   "cell_type": "code",
   "execution_count": 56,
   "metadata": {},
   "outputs": [
    {
     "data": {
      "text/plain": [
       "10.000000000000002"
      ]
     },
     "execution_count": 56,
     "metadata": {},
     "output_type": "execute_result"
    }
   ],
   "source": [
    "(10 ** 0.5) ** 2\n",
    "# at the 15th decimal place, we have some rounding error\n",
    "# what we expected was exactly 10"
   ]
  },
  {
   "cell_type": "code",
   "execution_count": 57,
   "metadata": {
    "scrolled": true
   },
   "outputs": [
    {
     "data": {
      "text/plain": [
       "1.7763568394002505e-15"
      ]
     },
     "execution_count": 57,
     "metadata": {},
     "output_type": "execute_result"
    }
   ],
   "source": [
    "((10 ** 0.5) ** 2) - 10\n",
    "# Very large or very small float values are displayed using scientific notation.\n",
    "\n",
    "# the number below is 0.000000000000001.7763568394002505\n",
    "# a number that is very close to 0\n",
    "\n",
    "\n",
    "#The correct answer to this arithmetic expression is 0, \n",
    "# but a small error in the final significant digit appears very different in scientific notation. \n",
    "# This behavior appears in almost all programming languages \n",
    "# because it is the result of the standard way that arithmetic is carried out on computers.\n",
    "\n",
    "# Although float values are not always exact, \n",
    "# they are certainly reliable and work the same way \n",
    "# across all different kinds of computers and programming languages.#"
   ]
  },
  {
   "cell_type": "code",
   "execution_count": 58,
   "metadata": {},
   "outputs": [
    {
     "data": {
      "text/plain": [
       "4.0"
      ]
     },
     "execution_count": 58,
     "metadata": {},
     "output_type": "execute_result"
    }
   ],
   "source": [
    "16 ** 0.5 \n",
    "# When a float value is combined with an int value using some arithmetic operator, \n",
    "# then the result is always a float value.\n",
    "\n",
    "# In most cases, two integers combine to form another integer, \n",
    "# but any number (int or float) divided by another will be a float value. \n"
   ]
  },
  {
   "cell_type": "code",
   "execution_count": 59,
   "metadata": {},
   "outputs": [
    {
     "data": {
      "text/plain": [
       "2.0"
      ]
     },
     "execution_count": 59,
     "metadata": {},
     "output_type": "execute_result"
    }
   ],
   "source": [
    "20 / 10"
   ]
  },
  {
   "cell_type": "code",
   "execution_count": 60,
   "metadata": {},
   "outputs": [
    {
     "data": {
      "text/plain": [
       "float"
      ]
     },
     "execution_count": 60,
     "metadata": {},
     "output_type": "execute_result"
    }
   ],
   "source": [
    "type(2.0)"
   ]
  },
  {
   "cell_type": "code",
   "execution_count": 61,
   "metadata": {},
   "outputs": [
    {
     "data": {
      "text/plain": [
       "2"
      ]
     },
     "execution_count": 61,
     "metadata": {},
     "output_type": "execute_result"
    }
   ],
   "source": [
    "int(20 / 10) # convert float to int"
   ]
  },
  {
   "cell_type": "code",
   "execution_count": 62,
   "metadata": {},
   "outputs": [
    {
     "data": {
      "text/plain": [
       "2.2222222222222223"
      ]
     },
     "execution_count": 62,
     "metadata": {},
     "output_type": "execute_result"
    }
   ],
   "source": [
    "20 / 9"
   ]
  },
  {
   "cell_type": "code",
   "execution_count": 64,
   "metadata": {},
   "outputs": [
    {
     "data": {
      "text/plain": [
       "3.0"
      ]
     },
     "execution_count": 64,
     "metadata": {},
     "output_type": "execute_result"
    }
   ],
   "source": [
    "float(3) # convert int to float"
   ]
  },
  {
   "cell_type": "code",
   "execution_count": 65,
   "metadata": {},
   "outputs": [
    {
     "data": {
      "text/plain": [
       "1.5"
      ]
     },
     "execution_count": 65,
     "metadata": {},
     "output_type": "execute_result"
    }
   ],
   "source": [
    "6 / 4"
   ]
  },
  {
   "cell_type": "code",
   "execution_count": 66,
   "metadata": {},
   "outputs": [
    {
     "data": {
      "text/plain": [
       "0.0015"
      ]
     },
     "execution_count": 66,
     "metadata": {},
     "output_type": "execute_result"
    }
   ],
   "source": [
    "6 / 4000"
   ]
  },
  {
   "cell_type": "code",
   "execution_count": 67,
   "metadata": {},
   "outputs": [
    {
     "data": {
      "text/plain": [
       "1.5e-56"
      ]
     },
     "execution_count": 67,
     "metadata": {},
     "output_type": "execute_result"
    }
   ],
   "source": [
    "6 / 400000000000000000000000000000000000000000000000000000000"
   ]
  },
  {
   "cell_type": "code",
   "execution_count": 68,
   "metadata": {},
   "outputs": [
    {
     "data": {
      "text/plain": [
       "6.0"
      ]
     },
     "execution_count": 68,
     "metadata": {},
     "output_type": "execute_result"
    }
   ],
   "source": [
    "400000000000000000000000000000000000000000000000000000000 * 1.5e-56 "
   ]
  },
  {
   "cell_type": "code",
   "execution_count": 69,
   "metadata": {},
   "outputs": [
    {
     "data": {
      "text/plain": [
       "1.5e-56"
      ]
     },
     "execution_count": 69,
     "metadata": {},
     "output_type": "execute_result"
    }
   ],
   "source": [
    "1.5e-56 # 1.5 * 10**-56"
   ]
  },
  {
   "cell_type": "code",
   "execution_count": 70,
   "metadata": {},
   "outputs": [],
   "source": [
    "x = 5"
   ]
  },
  {
   "cell_type": "code",
   "execution_count": 72,
   "metadata": {},
   "outputs": [
    {
     "data": {
      "text/plain": [
       "10"
      ]
     },
     "execution_count": 72,
     "metadata": {},
     "output_type": "execute_result"
    }
   ],
   "source": [
    "2*x"
   ]
  },
  {
   "cell_type": "code",
   "execution_count": null,
   "metadata": {},
   "outputs": [],
   "source": [
    "# what is the error saying above?\n",
    "\n",
    "# pointing at the x, not understanding what we wanted to do with 2x\n",
    "# we need to provide an operator, multiplier"
   ]
  },
  {
   "cell_type": "code",
   "execution_count": 73,
   "metadata": {},
   "outputs": [
    {
     "data": {
      "text/plain": [
       "10"
      ]
     },
     "execution_count": 73,
     "metadata": {},
     "output_type": "execute_result"
    }
   ],
   "source": [
    "# how do we fix it?\n",
    "2*x"
   ]
  },
  {
   "cell_type": "code",
   "execution_count": 74,
   "metadata": {},
   "outputs": [],
   "source": [
    "x = 3\n",
    "y = '4'\n",
    "z = '5.6'"
   ]
  },
  {
   "cell_type": "code",
   "execution_count": 77,
   "metadata": {},
   "outputs": [
    {
     "data": {
      "text/plain": [
       "5"
      ]
     },
     "execution_count": 77,
     "metadata": {},
     "output_type": "execute_result"
    }
   ],
   "source": [
    "my_float = float(z) #'5.6' to 5.6\n",
    "my_float = int(my_float) # int cuts off the decimal place, without rounding\n",
    "my_float"
   ]
  },
  {
   "cell_type": "code",
   "execution_count": 78,
   "metadata": {},
   "outputs": [
    {
     "ename": "ValueError",
     "evalue": "invalid literal for int() with base 10: '5.6'",
     "output_type": "error",
     "traceback": [
      "\u001b[0;31m---------------------------------------------------------------------------\u001b[0m",
      "\u001b[0;31mValueError\u001b[0m                                Traceback (most recent call last)",
      "\u001b[0;32m/tmp/ipykernel_129/605485900.py\u001b[0m in \u001b[0;36m<cell line: 2>\u001b[0;34m()\u001b[0m\n\u001b[1;32m      1\u001b[0m \u001b[0mz\u001b[0m \u001b[0;34m=\u001b[0m \u001b[0;34m'5.6'\u001b[0m\u001b[0;34m\u001b[0m\u001b[0;34m\u001b[0m\u001b[0m\n\u001b[0;32m----> 2\u001b[0;31m \u001b[0mmy_float\u001b[0m \u001b[0;34m=\u001b[0m \u001b[0mint\u001b[0m\u001b[0;34m(\u001b[0m\u001b[0mz\u001b[0m\u001b[0;34m)\u001b[0m\u001b[0;34m\u001b[0m\u001b[0;34m\u001b[0m\u001b[0m\n\u001b[0m",
      "\u001b[0;31mValueError\u001b[0m: invalid literal for int() with base 10: '5.6'"
     ]
    }
   ],
   "source": [
    "z = '5.6' # we can convert a string '5.6' directly to a float, but not to an int\n",
    "my_float = int(z)"
   ]
  },
  {
   "cell_type": "code",
   "execution_count": 81,
   "metadata": {},
   "outputs": [
    {
     "data": {
      "text/plain": [
       "4.0"
      ]
     },
     "execution_count": 81,
     "metadata": {},
     "output_type": "execute_result"
    }
   ],
   "source": [
    "int(y) # so we can convert a string '4' directly to an integer\n",
    "y = '4'\n",
    "float(y) # so we can convert a string '4' directly to an float"
   ]
  },
  {
   "cell_type": "code",
   "execution_count": 89,
   "metadata": {},
   "outputs": [
    {
     "data": {
      "text/plain": [
       "'45'"
      ]
     },
     "execution_count": 89,
     "metadata": {},
     "output_type": "execute_result"
    }
   ],
   "source": [
    "# challenge: can you get my_float to be a string value of 45?\n",
    "my_float = '45.1'\n",
    "new_my_float = float(my_float)\n",
    "\n",
    "new_my_float = int(new_my_float)\n",
    "new_my_float = str(new_my_float)\n",
    "new_my_float\n",
    "\n",
    "# my end goal is for my_float = '45'"
   ]
  },
  {
   "cell_type": "code",
   "execution_count": null,
   "metadata": {},
   "outputs": [],
   "source": []
  },
  {
   "cell_type": "markdown",
   "metadata": {},
   "source": [
    "## Strings ##"
   ]
  },
  {
   "cell_type": "code",
   "execution_count": 90,
   "metadata": {},
   "outputs": [
    {
     "data": {
      "text/plain": [
       "'baby yoda'"
      ]
     },
     "execution_count": 90,
     "metadata": {},
     "output_type": "execute_result"
    }
   ],
   "source": [
    "'baby yoda'"
   ]
  },
  {
   "cell_type": "code",
   "execution_count": 91,
   "metadata": {},
   "outputs": [
    {
     "data": {
      "text/plain": [
       "\"baby yoda isn't yoda\""
      ]
     },
     "execution_count": 91,
     "metadata": {},
     "output_type": "execute_result"
    }
   ],
   "source": [
    "\"baby yoda isn't yoda\""
   ]
  },
  {
   "cell_type": "code",
   "execution_count": 93,
   "metadata": {},
   "outputs": [
    {
     "data": {
      "text/plain": [
       "\"baby yoda isn't yoda\""
      ]
     },
     "execution_count": 93,
     "metadata": {},
     "output_type": "execute_result"
    }
   ],
   "source": [
    "\"baby yoda isn't yoda\""
   ]
  },
  {
   "cell_type": "code",
   "execution_count": 94,
   "metadata": {},
   "outputs": [
    {
     "data": {
      "text/plain": [
       "'strawberry'"
      ]
     },
     "execution_count": 94,
     "metadata": {},
     "output_type": "execute_result"
    }
   ],
   "source": [
    "'straw' + 'berry' # concatenation"
   ]
  },
  {
   "cell_type": "code",
   "execution_count": 95,
   "metadata": {},
   "outputs": [
    {
     "data": {
      "text/plain": [
       "'straw berry'"
      ]
     },
     "execution_count": 95,
     "metadata": {},
     "output_type": "execute_result"
    }
   ],
   "source": [
    "'straw' + ' ' + 'berry'"
   ]
  },
  {
   "cell_type": "code",
   "execution_count": 96,
   "metadata": {},
   "outputs": [
    {
     "data": {
      "text/plain": [
       "'hahahahahahahahahaha'"
      ]
     },
     "execution_count": 96,
     "metadata": {},
     "output_type": "execute_result"
    }
   ],
   "source": [
    "'ha' * 10"
   ]
  },
  {
   "cell_type": "code",
   "execution_count": 98,
   "metadata": {},
   "outputs": [
    {
     "data": {
      "text/plain": [
       "'lololololo'"
      ]
     },
     "execution_count": 98,
     "metadata": {},
     "output_type": "execute_result"
    }
   ],
   "source": [
    "'lo' * 5"
   ]
  },
  {
   "cell_type": "code",
   "execution_count": 99,
   "metadata": {},
   "outputs": [
    {
     "data": {
      "text/plain": [
       "3"
      ]
     },
     "execution_count": 99,
     "metadata": {},
     "output_type": "execute_result"
    }
   ],
   "source": [
    "int('3')"
   ]
  },
  {
   "cell_type": "code",
   "execution_count": 100,
   "metadata": {},
   "outputs": [
    {
     "ename": "ValueError",
     "evalue": "invalid literal for int() with base 10: '3.0'",
     "output_type": "error",
     "traceback": [
      "\u001b[0;31m---------------------------------------------------------------------------\u001b[0m",
      "\u001b[0;31mValueError\u001b[0m                                Traceback (most recent call last)",
      "\u001b[0;32m/tmp/ipykernel_129/2894328385.py\u001b[0m in \u001b[0;36m<cell line: 1>\u001b[0;34m()\u001b[0m\n\u001b[0;32m----> 1\u001b[0;31m \u001b[0mint\u001b[0m\u001b[0;34m(\u001b[0m\u001b[0;34m'3.0'\u001b[0m\u001b[0;34m)\u001b[0m\u001b[0;34m\u001b[0m\u001b[0;34m\u001b[0m\u001b[0m\n\u001b[0m",
      "\u001b[0;31mValueError\u001b[0m: invalid literal for int() with base 10: '3.0'"
     ]
    }
   ],
   "source": [
    "int('3.0')"
   ]
  },
  {
   "cell_type": "code",
   "execution_count": 101,
   "metadata": {},
   "outputs": [
    {
     "data": {
      "text/plain": [
       "3.0"
      ]
     },
     "execution_count": 101,
     "metadata": {},
     "output_type": "execute_result"
    }
   ],
   "source": [
    "float('3.0')"
   ]
  },
  {
   "cell_type": "code",
   "execution_count": 102,
   "metadata": {},
   "outputs": [
    {
     "data": {
      "text/plain": [
       "'3'"
      ]
     },
     "execution_count": 102,
     "metadata": {},
     "output_type": "execute_result"
    }
   ],
   "source": [
    "str(3)"
   ]
  },
  {
   "cell_type": "code",
   "execution_count": 103,
   "metadata": {},
   "outputs": [
    {
     "data": {
      "text/plain": [
       "'4.5'"
      ]
     },
     "execution_count": 103,
     "metadata": {},
     "output_type": "execute_result"
    }
   ],
   "source": [
    "str(4.5)"
   ]
  },
  {
   "cell_type": "code",
   "execution_count": 106,
   "metadata": {},
   "outputs": [
    {
     "data": {
      "text/plain": [
       "2022"
      ]
     },
     "execution_count": 106,
     "metadata": {},
     "output_type": "execute_result"
    }
   ],
   "source": [
    "# challenge: define a variable, this_year to equal a string value of 2022\n",
    "this_year = '2022'\n",
    "this_year = int(this_year)\n",
    "this_year"
   ]
  },
  {
   "cell_type": "markdown",
   "metadata": {},
   "source": [
    "## Types ##"
   ]
  },
  {
   "cell_type": "code",
   "execution_count": null,
   "metadata": {},
   "outputs": [],
   "source": [
    "type(10)"
   ]
  },
  {
   "cell_type": "code",
   "execution_count": null,
   "metadata": {},
   "outputs": [],
   "source": [
    "a = 10\n",
    "type(a)"
   ]
  },
  {
   "cell_type": "code",
   "execution_count": null,
   "metadata": {},
   "outputs": [],
   "source": [
    "type(4.5)"
   ]
  },
  {
   "cell_type": "code",
   "execution_count": null,
   "metadata": {},
   "outputs": [],
   "source": [
    "type('abc')"
   ]
  },
  {
   "cell_type": "code",
   "execution_count": null,
   "metadata": {},
   "outputs": [],
   "source": [
    "type(skyscrapers)"
   ]
  },
  {
   "cell_type": "code",
   "execution_count": null,
   "metadata": {},
   "outputs": [],
   "source": [
    "type(False)"
   ]
  },
  {
   "cell_type": "code",
   "execution_count": null,
   "metadata": {},
   "outputs": [],
   "source": [
    "help(abs)"
   ]
  },
  {
   "cell_type": "code",
   "execution_count": null,
   "metadata": {},
   "outputs": [],
   "source": [
    "# where can you find documentation on the function, type?\n",
    "\n"
   ]
  },
  {
   "cell_type": "code",
   "execution_count": null,
   "metadata": {},
   "outputs": [],
   "source": [
    "# bonus: can you find documentation on the Table method, where(), using the help function?\n",
    "\n",
    "\n",
    "\n"
   ]
  },
  {
   "cell_type": "markdown",
   "metadata": {},
   "source": [
    "## Arrays ##"
   ]
  },
  {
   "cell_type": "code",
   "execution_count": null,
   "metadata": {},
   "outputs": [],
   "source": [
    "my_array = make_array(1, 2, 3, 4)"
   ]
  },
  {
   "cell_type": "code",
   "execution_count": null,
   "metadata": {},
   "outputs": [],
   "source": [
    "my_array"
   ]
  },
  {
   "cell_type": "code",
   "execution_count": null,
   "metadata": {},
   "outputs": [],
   "source": [
    "my_array = my_array * 2"
   ]
  },
  {
   "cell_type": "code",
   "execution_count": null,
   "metadata": {},
   "outputs": [],
   "source": [
    "my_array ** 2"
   ]
  },
  {
   "cell_type": "code",
   "execution_count": null,
   "metadata": {},
   "outputs": [],
   "source": [
    "my_array + my_array"
   ]
  },
  {
   "cell_type": "code",
   "execution_count": null,
   "metadata": {},
   "outputs": [],
   "source": [
    "my_array # array is unchanged"
   ]
  },
  {
   "cell_type": "code",
   "execution_count": null,
   "metadata": {},
   "outputs": [],
   "source": [
    "len(my_array)"
   ]
  },
  {
   "cell_type": "code",
   "execution_count": null,
   "metadata": {},
   "outputs": [],
   "source": [
    "sum(my_array)"
   ]
  },
  {
   "cell_type": "code",
   "execution_count": null,
   "metadata": {},
   "outputs": [],
   "source": [
    "len(my_array) / sum(my_array)"
   ]
  },
  {
   "cell_type": "code",
   "execution_count": null,
   "metadata": {},
   "outputs": [],
   "source": [
    "another = make_array(60, 70, 80, 90)"
   ]
  },
  {
   "cell_type": "code",
   "execution_count": null,
   "metadata": {},
   "outputs": [],
   "source": [
    "my_array + another"
   ]
  },
  {
   "cell_type": "code",
   "execution_count": null,
   "metadata": {},
   "outputs": [],
   "source": [
    "yet_another = make_array(5, 6, 7)"
   ]
  },
  {
   "cell_type": "code",
   "execution_count": null,
   "metadata": {},
   "outputs": [],
   "source": [
    "my_array + yet_another"
   ]
  },
  {
   "cell_type": "code",
   "execution_count": null,
   "metadata": {},
   "outputs": [],
   "source": [
    "tunas = make_array('bluefin', 'albacore', 'jim')\n",
    "tunas"
   ]
  },
  {
   "cell_type": "code",
   "execution_count": null,
   "metadata": {},
   "outputs": [],
   "source": [
    "len(tunas)"
   ]
  },
  {
   "cell_type": "code",
   "execution_count": null,
   "metadata": {},
   "outputs": [],
   "source": [
    "np.average(my_array)\n",
    "# my_array"
   ]
  },
  {
   "cell_type": "code",
   "execution_count": null,
   "metadata": {},
   "outputs": [],
   "source": [
    "len(my_array)"
   ]
  },
  {
   "cell_type": "code",
   "execution_count": null,
   "metadata": {},
   "outputs": [],
   "source": [
    "x = 3\n",
    "y = '4'\n",
    "z = '5.6'\n"
   ]
  },
  {
   "cell_type": "code",
   "execution_count": null,
   "metadata": {},
   "outputs": [],
   "source": [
    "#x + y\n",
    "#x + int(y + z)\n",
    "y + float(z)"
   ]
  },
  {
   "cell_type": "markdown",
   "metadata": {},
   "source": [
    "## Columns of Tables are Arrays ##"
   ]
  },
  {
   "cell_type": "code",
   "execution_count": null,
   "metadata": {},
   "outputs": [],
   "source": [
    "sf = skyscrapers.where('city', 'San Francisco')\n",
    "sf"
   ]
  },
  {
   "cell_type": "code",
   "execution_count": null,
   "metadata": {},
   "outputs": [],
   "source": [
    "sf.select('height')"
   ]
  },
  {
   "cell_type": "code",
   "execution_count": null,
   "metadata": {
    "scrolled": true
   },
   "outputs": [],
   "source": [
    "sf.column('height')"
   ]
  },
  {
   "cell_type": "code",
   "execution_count": null,
   "metadata": {},
   "outputs": [],
   "source": [
    "np.average(sf.column('height'))"
   ]
  },
  {
   "cell_type": "code",
   "execution_count": null,
   "metadata": {},
   "outputs": [],
   "source": [
    "la = skyscrapers.where('city', 'Los Angeles')"
   ]
  },
  {
   "cell_type": "code",
   "execution_count": null,
   "metadata": {},
   "outputs": [],
   "source": [
    "# BONUS: what is the difference in average heights of skyscrapers in LA and skyscrapers in SF?\n",
    "\n",
    "\n"
   ]
  },
  {
   "cell_type": "code",
   "execution_count": null,
   "metadata": {},
   "outputs": [],
   "source": []
  }
 ],
 "metadata": {
  "anaconda-cloud": {},
  "kernelspec": {
   "display_name": "Python 3 (ipykernel)",
   "language": "python",
   "name": "python3"
  },
  "language_info": {
   "codemirror_mode": {
    "name": "ipython",
    "version": 3
   },
   "file_extension": ".py",
   "mimetype": "text/x-python",
   "name": "python",
   "nbconvert_exporter": "python",
   "pygments_lexer": "ipython3",
   "version": "3.9.10"
  },
  "toc": {
   "base_numbering": 1,
   "nav_menu": {},
   "number_sections": true,
   "sideBar": true,
   "skip_h1_title": false,
   "title_cell": "Table of Contents",
   "title_sidebar": "Contents",
   "toc_cell": false,
   "toc_position": {},
   "toc_section_display": true,
   "toc_window_display": false
  }
 },
 "nbformat": 4,
 "nbformat_minor": 1
}
